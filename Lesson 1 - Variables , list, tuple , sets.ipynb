{
 "cells": [
  {
   "cell_type": "markdown",
   "id": "253c82f5",
   "metadata": {},
   "source": [
    "# Lesson 1 - Variables , list, tuple , sets"
   ]
  },
  {
   "cell_type": "markdown",
   "id": "ea3bc384",
   "metadata": {},
   "source": [
    "## Variables - Python variables are simply containers for storing data values"
   ]
  },
  {
   "cell_type": "code",
   "execution_count": 32,
   "id": "4b3f84f2",
   "metadata": {},
   "outputs": [
    {
     "name": "stdout",
     "output_type": "stream",
     "text": [
      "3\n"
     ]
    }
   ],
   "source": [
    "x = 0\n",
    "x = 1\n",
    "y = 2\n",
    "z = x + y\n",
    "print(z)\n",
    "\n"
   ]
  },
  {
   "cell_type": "markdown",
   "id": "bb920165",
   "metadata": {},
   "source": [
    "How to fetch the address of varaibles"
   ]
  },
  {
   "cell_type": "code",
   "execution_count": 33,
   "id": "b9e3da11",
   "metadata": {},
   "outputs": [
    {
     "data": {
      "text/plain": [
       "2248372322544"
      ]
     },
     "execution_count": 33,
     "metadata": {},
     "output_type": "execute_result"
    }
   ],
   "source": [
    "id(x)"
   ]
  },
  {
   "cell_type": "markdown",
   "id": "fed4b20d",
   "metadata": {},
   "source": [
    "### we can add variables to numbers"
   ]
  },
  {
   "cell_type": "code",
   "execution_count": 3,
   "id": "ff76778c",
   "metadata": {},
   "outputs": [
    {
     "data": {
      "text/plain": [
       "22"
      ]
     },
     "execution_count": 3,
     "metadata": {},
     "output_type": "execute_result"
    }
   ],
   "source": [
    "19 + z\n",
    "\n",
    "\n"
   ]
  },
  {
   "cell_type": "markdown",
   "id": "68511d18",
   "metadata": {},
   "source": [
    "\n",
    "### underscore _ stores the result from previous operation "
   ]
  },
  {
   "cell_type": "code",
   "execution_count": 4,
   "id": "12578227",
   "metadata": {},
   "outputs": [
    {
     "data": {
      "text/plain": [
       "31"
      ]
     },
     "execution_count": 4,
     "metadata": {},
     "output_type": "execute_result"
    }
   ],
   "source": [
    "_ + 9\n",
    "\n"
   ]
  },
  {
   "cell_type": "markdown",
   "id": "37d4ffd9",
   "metadata": {},
   "source": [
    "### variables and strings"
   ]
  },
  {
   "cell_type": "code",
   "execution_count": 3,
   "id": "2e7a6383",
   "metadata": {},
   "outputs": [],
   "source": [
    "name = 'revathi'"
   ]
  },
  {
   "cell_type": "code",
   "execution_count": 19,
   "id": "a5f2c477",
   "metadata": {},
   "outputs": [
    {
     "data": {
      "text/plain": [
       "'revathi beautiful'"
      ]
     },
     "execution_count": 19,
     "metadata": {},
     "output_type": "execute_result"
    }
   ],
   "source": [
    "name + \" beautiful\"\n",
    "\n",
    "\n",
    "# string concatetnation"
   ]
  },
  {
   "cell_type": "markdown",
   "id": "e1d1958c",
   "metadata": {},
   "source": [
    "#### Pick letters or words of your choice from given strings"
   ]
  },
  {
   "cell_type": "code",
   "execution_count": 20,
   "id": "ca368e1f",
   "metadata": {},
   "outputs": [
    {
     "data": {
      "text/plain": [
       "'revathi'"
      ]
     },
     "execution_count": 20,
     "metadata": {},
     "output_type": "execute_result"
    }
   ],
   "source": [
    "named"
   ]
  },
  {
   "cell_type": "code",
   "execution_count": 21,
   "id": "68ef3c44",
   "metadata": {},
   "outputs": [
    {
     "data": {
      "text/plain": [
       "'th'"
      ]
     },
     "execution_count": 21,
     "metadata": {},
     "output_type": "execute_result"
    }
   ],
   "source": [
    "name[4:-1]"
   ]
  },
  {
   "cell_type": "code",
   "execution_count": 22,
   "id": "db574375",
   "metadata": {},
   "outputs": [
    {
     "data": {
      "text/plain": [
       "'r'"
      ]
     },
     "execution_count": 22,
     "metadata": {},
     "output_type": "execute_result"
    }
   ],
   "source": [
    "name[0]"
   ]
  },
  {
   "cell_type": "code",
   "execution_count": 23,
   "id": "8c98db56",
   "metadata": {},
   "outputs": [
    {
     "data": {
      "text/plain": [
       "'re'"
      ]
     },
     "execution_count": 23,
     "metadata": {},
     "output_type": "execute_result"
    }
   ],
   "source": [
    "name[0:2]"
   ]
  },
  {
   "cell_type": "code",
   "execution_count": 24,
   "id": "61595ef6",
   "metadata": {},
   "outputs": [
    {
     "data": {
      "text/plain": [
       "'reva'"
      ]
     },
     "execution_count": 24,
     "metadata": {},
     "output_type": "execute_result"
    }
   ],
   "source": [
    "name[:4]"
   ]
  },
  {
   "cell_type": "markdown",
   "id": "d49ef55a",
   "metadata": {},
   "source": [
    "### no error"
   ]
  },
  {
   "cell_type": "code",
   "execution_count": 25,
   "id": "ad67c368",
   "metadata": {},
   "outputs": [
    {
     "data": {
      "text/plain": [
       "'thi'"
      ]
     },
     "execution_count": 25,
     "metadata": {},
     "output_type": "execute_result"
    }
   ],
   "source": [
    "name[4:1030]"
   ]
  },
  {
   "cell_type": "markdown",
   "id": "56697cb2",
   "metadata": {},
   "source": [
    "#### Strings are immutable"
   ]
  },
  {
   "cell_type": "code",
   "execution_count": 26,
   "id": "033dec92",
   "metadata": {},
   "outputs": [
    {
     "ename": "TypeError",
     "evalue": "'str' object does not support item assignment",
     "output_type": "error",
     "traceback": [
      "\u001b[1;31m---------------------------------------------------------------------------\u001b[0m",
      "\u001b[1;31mTypeError\u001b[0m                                 Traceback (most recent call last)",
      "Input \u001b[1;32mIn [26]\u001b[0m, in \u001b[0;36m<cell line: 1>\u001b[1;34m()\u001b[0m\n\u001b[1;32m----> 1\u001b[0m name[\u001b[38;5;241m0\u001b[39m] \u001b[38;5;241m=\u001b[39m \u001b[38;5;124m'\u001b[39m\u001b[38;5;124ms\u001b[39m\u001b[38;5;124m'\u001b[39m\n",
      "\u001b[1;31mTypeError\u001b[0m: 'str' object does not support item assignment"
     ]
    }
   ],
   "source": [
    "name[0] = 's'"
   ]
  },
  {
   "cell_type": "code",
   "execution_count": 30,
   "id": "c66e2160",
   "metadata": {},
   "outputs": [
    {
     "data": {
      "text/plain": [
       "'revathirambha'"
      ]
     },
     "execution_count": 30,
     "metadata": {},
     "output_type": "execute_result"
    }
   ],
   "source": [
    "### what if you want rambhavathi instead of revathi\n",
    "\n",
    "name[0:] + 'rambha' "
   ]
  },
  {
   "cell_type": "code",
   "execution_count": 31,
   "id": "356b17d3",
   "metadata": {},
   "outputs": [
    {
     "data": {
      "text/plain": [
       "7"
      ]
     },
     "execution_count": 31,
     "metadata": {},
     "output_type": "execute_result"
    }
   ],
   "source": [
    "len(name)"
   ]
  },
  {
   "cell_type": "markdown",
   "id": "192db705",
   "metadata": {},
   "source": [
    "# LISTS\n"
   ]
  },
  {
   "cell_type": "markdown",
   "id": "d332eeec",
   "metadata": {},
   "source": [
    "## Lists are used to store multiple items in a single variable"
   ]
  },
  {
   "cell_type": "code",
   "execution_count": 32,
   "id": "5d8c082a",
   "metadata": {},
   "outputs": [],
   "source": [
    "nums = [12,34,54,56,\"revathi\",3.4,-0]"
   ]
  },
  {
   "cell_type": "code",
   "execution_count": 33,
   "id": "4dcb6fdc",
   "metadata": {},
   "outputs": [
    {
     "data": {
      "text/plain": [
       "list"
      ]
     },
     "execution_count": 33,
     "metadata": {},
     "output_type": "execute_result"
    }
   ],
   "source": [
    "type(nums)"
   ]
  },
  {
   "cell_type": "code",
   "execution_count": 34,
   "id": "e91590f5",
   "metadata": {},
   "outputs": [
    {
     "data": {
      "text/plain": [
       "3.4"
      ]
     },
     "execution_count": 34,
     "metadata": {},
     "output_type": "execute_result"
    }
   ],
   "source": [
    "nums[5]"
   ]
  },
  {
   "cell_type": "markdown",
   "id": "870f92a5",
   "metadata": {},
   "source": [
    "### grouping one or more list "
   ]
  },
  {
   "cell_type": "code",
   "execution_count": 71,
   "id": "168daaf2",
   "metadata": {},
   "outputs": [
    {
     "data": {
      "text/plain": [
       "[[1, 2, 3, 9, 'r', 'reva'], [4, 6, 7, 8, 'e', 'reva', 't']]"
      ]
     },
     "execution_count": 71,
     "metadata": {},
     "output_type": "execute_result"
    }
   ],
   "source": [
    "n1 = [1,2,3,9,'r','reva']\n",
    "n2 = [4,6,7,8,'e','reva','t']\n",
    "\n",
    "n3 = [n1,n2]\n",
    "n3"
   ]
  },
  {
   "cell_type": "code",
   "execution_count": null,
   "id": "7451b285",
   "metadata": {},
   "outputs": [],
   "source": [
    "### various methods in list ( press tab to list the methods)\n",
    "\n",
    "append ( element)         -     adds specified element to last \n",
    "inserts ( index, element) -     adds element to the specified index\n",
    "remove (element)          -     removes specified element from the list\n",
    "pop(index)                -     removes element from specified index , just pop removes last elemt\n",
    "del n1[2:]                -     deletes every element from index 2 in the list named n1\n",
    "extend([,])               -     adds one or more elemts to the list\n",
    "sort, max, min"
   ]
  },
  {
   "cell_type": "code",
   "execution_count": 77,
   "id": "1bbe1c9c",
   "metadata": {},
   "outputs": [
    {
     "data": {
      "text/plain": [
       "2"
      ]
     },
     "execution_count": 77,
     "metadata": {},
     "output_type": "execute_result"
    }
   ],
   "source": [
    "n1.pop(1)"
   ]
  },
  {
   "cell_type": "code",
   "execution_count": 78,
   "id": "dd7a5e9c",
   "metadata": {},
   "outputs": [
    {
     "data": {
      "text/plain": [
       "[1, 3, 9, 'r', 'reva']"
      ]
     },
     "execution_count": 78,
     "metadata": {},
     "output_type": "execute_result"
    }
   ],
   "source": [
    "n1"
   ]
  },
  {
   "cell_type": "code",
   "execution_count": 86,
   "id": "94144bf0",
   "metadata": {},
   "outputs": [
    {
     "data": {
      "text/plain": [
       "[1, 2, 3, 9, 'r', 'reva', 14]"
      ]
     },
     "execution_count": 86,
     "metadata": {},
     "output_type": "execute_result"
    }
   ],
   "source": [
    "n1.append(14)\n",
    "n1"
   ]
  },
  {
   "cell_type": "code",
   "execution_count": 87,
   "id": "5827553f",
   "metadata": {},
   "outputs": [
    {
     "data": {
      "text/plain": [
       "['first', 1, 2, 3, 9, 'r', 'reva', 14]"
      ]
     },
     "execution_count": 87,
     "metadata": {},
     "output_type": "execute_result"
    }
   ],
   "source": [
    "n1.insert(0,'first')\n",
    "n1"
   ]
  },
  {
   "cell_type": "code",
   "execution_count": 88,
   "id": "56bdff7e",
   "metadata": {},
   "outputs": [
    {
     "data": {
      "text/plain": [
       "['first', 1, 2, 3, 9, 'r', 'reva']"
      ]
     },
     "execution_count": 88,
     "metadata": {},
     "output_type": "execute_result"
    }
   ],
   "source": [
    "n1.remove(14)\n",
    "n1"
   ]
  },
  {
   "cell_type": "code",
   "execution_count": 89,
   "id": "0354b6a5",
   "metadata": {},
   "outputs": [
    {
     "data": {
      "text/plain": [
       "'reva'"
      ]
     },
     "execution_count": 89,
     "metadata": {},
     "output_type": "execute_result"
    }
   ],
   "source": [
    "n1.pop()"
   ]
  },
  {
   "cell_type": "code",
   "execution_count": 90,
   "id": "5c58457a",
   "metadata": {},
   "outputs": [
    {
     "data": {
      "text/plain": [
       "['first', 1, 2, 3, 'r']"
      ]
     },
     "execution_count": 90,
     "metadata": {},
     "output_type": "execute_result"
    }
   ],
   "source": [
    "n1.pop(4)\n",
    "n1"
   ]
  },
  {
   "cell_type": "code",
   "execution_count": 2,
   "id": "68673a75",
   "metadata": {},
   "outputs": [],
   "source": [
    "del n1[2]"
   ]
  },
  {
   "cell_type": "code",
   "execution_count": 3,
   "id": "e7f6f0cc",
   "metadata": {},
   "outputs": [
    {
     "data": {
      "text/plain": [
       "[1, 2, 9, 'r', 'reva']"
      ]
     },
     "execution_count": 3,
     "metadata": {},
     "output_type": "execute_result"
    }
   ],
   "source": [
    "n1"
   ]
  },
  {
   "cell_type": "code",
   "execution_count": 97,
   "id": "ad55e674",
   "metadata": {},
   "outputs": [],
   "source": [
    "n1.extend(['revaaa'])"
   ]
  },
  {
   "cell_type": "code",
   "execution_count": 98,
   "id": "7bba720f",
   "metadata": {},
   "outputs": [
    {
     "data": {
      "text/plain": [
       "['first', 1, 'revaaa', 'athi', 'revaaa']"
      ]
     },
     "execution_count": 98,
     "metadata": {},
     "output_type": "execute_result"
    }
   ],
   "source": [
    "n1"
   ]
  },
  {
   "cell_type": "code",
   "execution_count": 100,
   "id": "de40487d",
   "metadata": {},
   "outputs": [],
   "source": [
    "n4=[1,4,0,3,90,45]"
   ]
  },
  {
   "cell_type": "code",
   "execution_count": 104,
   "id": "4c9b7ee8",
   "metadata": {},
   "outputs": [
    {
     "data": {
      "text/plain": [
       "[0, 1, 3, 4, 45, 90]"
      ]
     },
     "execution_count": 104,
     "metadata": {},
     "output_type": "execute_result"
    }
   ],
   "source": [
    "n4.sort()\n",
    "n4\n"
   ]
  },
  {
   "cell_type": "code",
   "execution_count": 106,
   "id": "05f0f088",
   "metadata": {},
   "outputs": [
    {
     "data": {
      "text/plain": [
       "0"
      ]
     },
     "execution_count": 106,
     "metadata": {},
     "output_type": "execute_result"
    }
   ],
   "source": [
    "min(n4)"
   ]
  },
  {
   "cell_type": "markdown",
   "id": "0d01673a",
   "metadata": {},
   "source": [
    "# TUPLES AND SETS"
   ]
  },
  {
   "cell_type": "markdown",
   "id": "a42010d6",
   "metadata": {},
   "source": [
    "tuples are immutable ( cannot change value) unlike list\n",
    "use [] for list\n",
    "use () for tuple\n",
    "\n",
    "\n",
    "\n",
    "As values does not chnage in tuple,\n",
    "the iteration is faster in tuple,\n",
    "also code safe and can be used as dictionary keys  if it contains\n",
    "immutable values like strings, numbers or other tuple (unlike list which are mutable)\n",
    "\n",
    "but [] can be used to access values from tuples\n",
    "\n",
    "\n",
    "\n",
    "tup.count - count here will give u the number of occurences of a number"
   ]
  },
  {
   "cell_type": "code",
   "execution_count": 5,
   "id": "345ebd53",
   "metadata": {},
   "outputs": [
    {
     "data": {
      "text/plain": [
       "45"
      ]
     },
     "execution_count": 5,
     "metadata": {},
     "output_type": "execute_result"
    }
   ],
   "source": [
    "tup = (23,45,12,67,23)\n",
    "tup[1]"
   ]
  },
  {
   "cell_type": "code",
   "execution_count": 6,
   "id": "665f3f2c",
   "metadata": {},
   "outputs": [
    {
     "ename": "TypeError",
     "evalue": "'tuple' object does not support item assignment",
     "output_type": "error",
     "traceback": [
      "\u001b[1;31m---------------------------------------------------------------------------\u001b[0m",
      "\u001b[1;31mTypeError\u001b[0m                                 Traceback (most recent call last)",
      "Input \u001b[1;32mIn [6]\u001b[0m, in \u001b[0;36m<cell line: 1>\u001b[1;34m()\u001b[0m\n\u001b[1;32m----> 1\u001b[0m tup[\u001b[38;5;241m1\u001b[39m]\u001b[38;5;241m=\u001b[39m\u001b[38;5;241m34\u001b[39m\n",
      "\u001b[1;31mTypeError\u001b[0m: 'tuple' object does not support item assignment"
     ]
    }
   ],
   "source": [
    "tup[1]=34\n"
   ]
  },
  {
   "cell_type": "code",
   "execution_count": 7,
   "id": "673ea96d",
   "metadata": {},
   "outputs": [
    {
     "data": {
      "text/plain": [
       "2"
      ]
     },
     "execution_count": 7,
     "metadata": {},
     "output_type": "execute_result"
    }
   ],
   "source": [
    "tup.count(23)"
   ]
  },
  {
   "cell_type": "code",
   "execution_count": 8,
   "id": "6d00f769",
   "metadata": {},
   "outputs": [
    {
     "data": {
      "text/plain": [
       "0"
      ]
     },
     "execution_count": 8,
     "metadata": {},
     "output_type": "execute_result"
    }
   ],
   "source": [
    "tup.index(23)"
   ]
  },
  {
   "cell_type": "markdown",
   "id": "399c25f6",
   "metadata": {},
   "source": [
    "\n",
    "\n",
    "# SET"
   ]
  },
  {
   "cell_type": "markdown",
   "id": "add1a42e",
   "metadata": {},
   "source": [
    "{} is for set\n",
    "sets does not follow sequnce so no indexing , \n",
    "no duplicates\n",
    "it uses hash\n",
    "\n",
    "discard   - removes the specified elemt\n",
    "difference_update - removes the commmon elemt in both setr"
   ]
  },
  {
   "cell_type": "code",
   "execution_count": 30,
   "id": "a4bf6c27",
   "metadata": {},
   "outputs": [],
   "source": [
    "s1 = {23,1,24,56,98,76,23,89,98,98}\n"
   ]
  },
  {
   "cell_type": "code",
   "execution_count": 31,
   "id": "acc1f5a7",
   "metadata": {},
   "outputs": [
    {
     "data": {
      "text/plain": [
       "{1, 23, 24, 56, 76, 89, 98}"
      ]
     },
     "execution_count": 31,
     "metadata": {},
     "output_type": "execute_result"
    }
   ],
   "source": [
    "s1"
   ]
  },
  {
   "cell_type": "code",
   "execution_count": null,
   "id": "ad58416a",
   "metadata": {},
   "outputs": [],
   "source": []
  },
  {
   "cell_type": "code",
   "execution_count": 28,
   "id": "2ff8c9be",
   "metadata": {},
   "outputs": [],
   "source": [
    "s1 = [23,1,24,56,98,76,23,89,98,98]"
   ]
  },
  {
   "cell_type": "code",
   "execution_count": 29,
   "id": "33e02002",
   "metadata": {},
   "outputs": [
    {
     "data": {
      "text/plain": [
       "[23, 1, 24, 56, 98, 76, 23, 89, 98, 98]"
      ]
     },
     "execution_count": 29,
     "metadata": {},
     "output_type": "execute_result"
    }
   ],
   "source": [
    "s1"
   ]
  },
  {
   "cell_type": "code",
   "execution_count": 92,
   "id": "38d5a901",
   "metadata": {},
   "outputs": [
    {
     "data": {
      "text/plain": [
       "23"
      ]
     },
     "execution_count": 92,
     "metadata": {},
     "output_type": "execute_result"
    }
   ],
   "source": [
    "s1[0]"
   ]
  },
  {
   "cell_type": "code",
   "execution_count": null,
   "id": "adc9b32c",
   "metadata": {},
   "outputs": [],
   "source": []
  },
  {
   "cell_type": "code",
   "execution_count": 96,
   "id": "c1da5ce6",
   "metadata": {},
   "outputs": [],
   "source": [
    "s1.discard(0)"
   ]
  },
  {
   "cell_type": "code",
   "execution_count": 112,
   "id": "5eddc494",
   "metadata": {},
   "outputs": [],
   "source": [
    "s1 = {'apple','banana','plum'}\n",
    "s2={'apple', 'mango','orange'}\n"
   ]
  },
  {
   "cell_type": "code",
   "execution_count": 105,
   "id": "4998c0ad",
   "metadata": {},
   "outputs": [],
   "source": [
    "s2.difference_update(s1)"
   ]
  },
  {
   "cell_type": "code",
   "execution_count": 108,
   "id": "a0a0c661",
   "metadata": {},
   "outputs": [
    {
     "data": {
      "text/plain": [
       "{'apple', 'banana', 'plum'}"
      ]
     },
     "execution_count": 108,
     "metadata": {},
     "output_type": "execute_result"
    }
   ],
   "source": [
    "s1"
   ]
  },
  {
   "cell_type": "code",
   "execution_count": 114,
   "id": "03838a6c",
   "metadata": {},
   "outputs": [
    {
     "data": {
      "text/plain": [
       "{'apple', 'mango', 'orange'}"
      ]
     },
     "execution_count": 114,
     "metadata": {},
     "output_type": "execute_result"
    }
   ],
   "source": [
    "s2"
   ]
  },
  {
   "cell_type": "code",
   "execution_count": 110,
   "id": "dd83d18b",
   "metadata": {},
   "outputs": [],
   "source": [
    "s1.intersection_update(s2)"
   ]
  },
  {
   "cell_type": "code",
   "execution_count": 111,
   "id": "002a0ecc",
   "metadata": {},
   "outputs": [
    {
     "data": {
      "text/plain": [
       "set()"
      ]
     },
     "execution_count": 111,
     "metadata": {},
     "output_type": "execute_result"
    }
   ],
   "source": [
    "s1"
   ]
  },
  {
   "cell_type": "code",
   "execution_count": 113,
   "id": "cf5f0137",
   "metadata": {},
   "outputs": [
    {
     "data": {
      "text/plain": [
       "{'apple'}"
      ]
     },
     "execution_count": 113,
     "metadata": {},
     "output_type": "execute_result"
    }
   ],
   "source": [
    "s1.intersection(s2)"
   ]
  },
  {
   "cell_type": "code",
   "execution_count": 16,
   "id": "a9bdf3d1",
   "metadata": {},
   "outputs": [
    {
     "data": {
      "text/plain": [
       "set()"
      ]
     },
     "execution_count": 16,
     "metadata": {},
     "output_type": "execute_result"
    }
   ],
   "source": [
    "s1"
   ]
  },
  {
   "cell_type": "code",
   "execution_count": 17,
   "id": "55f8a23d",
   "metadata": {
    "scrolled": true
   },
   "outputs": [
    {
     "data": {
      "text/plain": [
       "{'mango', 'orange'}"
      ]
     },
     "execution_count": 17,
     "metadata": {},
     "output_type": "execute_result"
    }
   ],
   "source": [
    "s2"
   ]
  },
  {
   "cell_type": "markdown",
   "id": "e1662251",
   "metadata": {},
   "source": [
    "### User input"
   ]
  },
  {
   "cell_type": "markdown",
   "id": "1c134d62",
   "metadata": {},
   "source": [
    "#### Input function by default considers string data type"
   ]
  },
  {
   "cell_type": "code",
   "execution_count": 11,
   "id": "e2ad4929",
   "metadata": {},
   "outputs": [
    {
     "name": "stdout",
     "output_type": "stream",
     "text": [
      "enter first number4\n",
      "enter second number5\n",
      "<class 'str'>\n",
      "output is 45\n"
     ]
    }
   ],
   "source": [
    "a=input(\"enter first number\")\n",
    "b=input(\"enter second number\")\n",
    "print(type(a))\n",
    "c=a+b\n",
    "print(\"output is\",c)"
   ]
  },
  {
   "cell_type": "code",
   "execution_count": 12,
   "id": "15f78310",
   "metadata": {},
   "outputs": [
    {
     "name": "stdout",
     "output_type": "stream",
     "text": [
      "enter first number4\n",
      "enter second number5\n",
      "output is 9\n"
     ]
    }
   ],
   "source": [
    "a=int(input(\"enter first number\"))\n",
    "b=int(input(\"enter second number\"))\n",
    "c=a+b\n",
    "print(\"output is\",c)"
   ]
  },
  {
   "cell_type": "markdown",
   "id": "ffbe503c",
   "metadata": {},
   "source": [
    "#### As python does not offer char data type , what if the user enters string instead of char , but we expect a char ."
   ]
  },
  {
   "cell_type": "code",
   "execution_count": 14,
   "id": "7bf1a59d",
   "metadata": {},
   "outputs": [
    {
     "name": "stdout",
     "output_type": "stream",
     "text": [
      "enter first charuytr\n",
      "output is uytr\n"
     ]
    }
   ],
   "source": [
    "a=input(\"enter first char\")\n",
    "\n",
    "print(\"output is\",a)"
   ]
  },
  {
   "cell_type": "code",
   "execution_count": 16,
   "id": "5e47c6f1",
   "metadata": {},
   "outputs": [
    {
     "name": "stdout",
     "output_type": "stream",
     "text": [
      "enter first charrevathi\n",
      "output is v\n"
     ]
    }
   ],
   "source": [
    "a=input(\"enter first char\")[0]\n",
    "\n",
    "print(\"output is\",a)"
   ]
  },
  {
   "cell_type": "markdown",
   "id": "e9d0cd70",
   "metadata": {},
   "source": [
    "For calculating expression"
   ]
  },
  {
   "cell_type": "code",
   "execution_count": 17,
   "id": "fb02d187",
   "metadata": {},
   "outputs": [
    {
     "name": "stdout",
     "output_type": "stream",
     "text": [
      "enter expression2+3+1\n",
      "output is 6\n"
     ]
    }
   ],
   "source": [
    "a=eval(input(\"enter expression\"))\n",
    "\n",
    "print(\"output is\",a)"
   ]
  },
  {
   "cell_type": "code",
   "execution_count": 26,
   "id": "2462185d",
   "metadata": {},
   "outputs": [],
   "source": [
    "nums=[25,36,95,12,14,26]\n",
    "nums.remove(25)"
   ]
  },
  {
   "cell_type": "code",
   "execution_count": 27,
   "id": "076beb16",
   "metadata": {},
   "outputs": [
    {
     "data": {
      "text/plain": [
       "[36, 95, 12, 14, 26]"
      ]
     },
     "execution_count": 27,
     "metadata": {},
     "output_type": "execute_result"
    }
   ],
   "source": [
    "nums"
   ]
  },
  {
   "cell_type": "code",
   "execution_count": null,
   "id": "f415484f",
   "metadata": {},
   "outputs": [],
   "source": []
  }
 ],
 "metadata": {
  "kernelspec": {
   "display_name": "Python 3 (ipykernel)",
   "language": "python",
   "name": "python3"
  },
  "language_info": {
   "codemirror_mode": {
    "name": "ipython",
    "version": 3
   },
   "file_extension": ".py",
   "mimetype": "text/x-python",
   "name": "python",
   "nbconvert_exporter": "python",
   "pygments_lexer": "ipython3",
   "version": "3.10.2"
  }
 },
 "nbformat": 4,
 "nbformat_minor": 5
}
