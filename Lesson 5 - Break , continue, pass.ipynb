{
 "cells": [
  {
   "cell_type": "markdown",
   "id": "5c23d997",
   "metadata": {},
   "source": [
    "## BREAK Just jump out the block use BREAK"
   ]
  },
  {
   "cell_type": "code",
   "execution_count": 9,
   "id": "f1ba7e84",
   "metadata": {},
   "outputs": [
    {
     "name": "stdout",
     "output_type": "stream",
     "text": [
      "how many candies u want12\n",
      "candy\n",
      "candy\n",
      "candy\n",
      "candy\n",
      "candy\n",
      "out of stock\n",
      "bye\n"
     ]
    }
   ],
   "source": [
    "x=int(input('how many candies u want'))\n",
    "\n",
    "av=5   #available candies in vending machine\n",
    "\n",
    "i=1\n",
    "while(i<=x):\n",
    "    if i>av:\n",
    "        print(\"out of stock\")\n",
    "        break\n",
    "    print(\"candy\")\n",
    "    i=i+1\n",
    "    \n",
    "print(\"bye\")"
   ]
  },
  {
   "cell_type": "markdown",
   "id": "629b5d5e",
   "metadata": {},
   "source": [
    "## CONTINUE"
   ]
  },
  {
   "cell_type": "markdown",
   "id": "29a17fdc",
   "metadata": {},
   "source": [
    "To print all number from 1 to 50 except numbers divisble by 3 and 5"
   ]
  },
  {
   "cell_type": "markdown",
   "id": "d09fcbe4",
   "metadata": {},
   "source": [
    "Continue skips only the current execution not the entire loop"
   ]
  },
  {
   "cell_type": "code",
   "execution_count": 5,
   "id": "484bef47",
   "metadata": {},
   "outputs": [
    {
     "name": "stdout",
     "output_type": "stream",
     "text": [
      "1\n",
      "2\n",
      "4\n",
      "7\n",
      "8\n",
      "11\n",
      "13\n",
      "14\n",
      "16\n",
      "17\n",
      "19\n",
      "22\n",
      "23\n",
      "26\n",
      "28\n",
      "29\n",
      "31\n",
      "32\n",
      "34\n",
      "37\n",
      "38\n",
      "41\n",
      "43\n",
      "44\n",
      "46\n",
      "47\n",
      "49\n"
     ]
    }
   ],
   "source": [
    "for i in range(1,51):\n",
    "    if i % 3==0 or i%5==0:\n",
    "        pass\n",
    "    else:\n",
    "        print(i)"
   ]
  },
  {
   "cell_type": "code",
   "execution_count": 2,
   "id": "20e34074",
   "metadata": {},
   "outputs": [
    {
     "name": "stdout",
     "output_type": "stream",
     "text": [
      "1\n",
      "2\n",
      "4\n",
      "7\n",
      "8\n",
      "11\n",
      "13\n",
      "14\n",
      "16\n",
      "17\n",
      "19\n",
      "22\n",
      "23\n",
      "26\n",
      "28\n",
      "29\n",
      "31\n",
      "32\n",
      "34\n",
      "37\n",
      "38\n",
      "41\n",
      "43\n",
      "44\n",
      "46\n",
      "47\n",
      "49\n"
     ]
    }
   ],
   "source": [
    "for i in range(1,51):\n",
    "    if i%3 ==0 or i%5 == 0:\n",
    "        continue\n",
    "    print(i)"
   ]
  },
  {
   "cell_type": "markdown",
   "id": "198e792a",
   "metadata": {},
   "source": [
    "## PASS"
   ]
  },
  {
   "cell_type": "markdown",
   "id": "a2f578fe",
   "metadata": {},
   "source": [
    "It is used as a placeholder when a statement is syntactically required but you don't want to execute any code. Essentially, pass does nothing and it serves as a placeholder to avoid syntax errors in situations where Python expects code."
   ]
  },
  {
   "cell_type": "markdown",
   "id": "0c8d179b",
   "metadata": {},
   "source": [
    "Program to print 1 to 100 except odd numbers"
   ]
  },
  {
   "cell_type": "code",
   "execution_count": 3,
   "id": "2e570f3d",
   "metadata": {},
   "outputs": [
    {
     "name": "stdout",
     "output_type": "stream",
     "text": [
      "2\n",
      "4\n",
      "6\n",
      "8\n",
      "10\n",
      "12\n",
      "14\n",
      "16\n",
      "18\n",
      "20\n",
      "22\n",
      "24\n",
      "26\n",
      "28\n",
      "30\n",
      "32\n",
      "34\n",
      "36\n",
      "38\n",
      "40\n",
      "42\n",
      "44\n",
      "46\n",
      "48\n",
      "50\n",
      "52\n",
      "54\n",
      "56\n",
      "58\n",
      "60\n",
      "62\n",
      "64\n",
      "66\n",
      "68\n",
      "70\n",
      "72\n",
      "74\n",
      "76\n",
      "78\n",
      "80\n",
      "82\n",
      "84\n",
      "86\n",
      "88\n",
      "90\n",
      "92\n",
      "94\n",
      "96\n",
      "98\n",
      "100\n"
     ]
    }
   ],
   "source": [
    "for i in range(1,101):\n",
    "    if i%2==0:\n",
    "        print(i)\n",
    "    else:\n",
    "        pass"
   ]
  },
  {
   "cell_type": "code",
   "execution_count": 14,
   "id": "c858b35a",
   "metadata": {},
   "outputs": [
    {
     "name": "stdout",
     "output_type": "stream",
     "text": [
      "2\n",
      "4\n",
      "6\n",
      "8\n",
      "10\n",
      "12\n",
      "14\n",
      "16\n",
      "18\n",
      "20\n",
      "22\n",
      "24\n",
      "26\n",
      "28\n",
      "30\n",
      "32\n",
      "34\n",
      "36\n",
      "38\n",
      "40\n",
      "42\n",
      "44\n",
      "46\n",
      "48\n",
      "50\n",
      "52\n",
      "54\n",
      "56\n",
      "58\n",
      "60\n",
      "62\n",
      "64\n",
      "66\n",
      "68\n",
      "70\n",
      "72\n",
      "74\n",
      "76\n",
      "78\n",
      "80\n",
      "82\n",
      "84\n",
      "86\n",
      "88\n",
      "90\n",
      "92\n",
      "94\n",
      "96\n",
      "98\n",
      "100\n"
     ]
    }
   ],
   "source": [
    "for i in range(1,101):\n",
    "    if i %2!=0:\n",
    "        pass\n",
    "        \n",
    "    else:\n",
    "        print(i)\n",
    "        "
   ]
  },
  {
   "cell_type": "code",
   "execution_count": null,
   "id": "b39ca974",
   "metadata": {},
   "outputs": [],
   "source": []
  }
 ],
 "metadata": {
  "kernelspec": {
   "display_name": "Python 3 (ipykernel)",
   "language": "python",
   "name": "python3"
  },
  "language_info": {
   "codemirror_mode": {
    "name": "ipython",
    "version": 3
   },
   "file_extension": ".py",
   "mimetype": "text/x-python",
   "name": "python",
   "nbconvert_exporter": "python",
   "pygments_lexer": "ipython3",
   "version": "3.10.2"
  }
 },
 "nbformat": 4,
 "nbformat_minor": 5
}
