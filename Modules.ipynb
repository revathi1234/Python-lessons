{
 "cells": [
  {
   "cell_type": "markdown",
   "id": "95aedf7f",
   "metadata": {},
   "source": [
    "### Modules\n",
    "\n",
    "Modules in Python are a way to organize code into separate files, making it more manageable, reusable, and maintainable."
   ]
  },
  {
   "cell_type": "code",
   "execution_count": 15,
   "id": "e56c50b9",
   "metadata": {},
   "outputs": [
    {
     "name": "stdout",
     "output_type": "stream",
     "text": [
      "15\n"
     ]
    }
   ],
   "source": [
    "import calc\n",
    "a=8\n",
    "b=7\n",
    "\n",
    "c=calc.add(a,b)\n",
    "print(c)"
   ]
  },
  {
   "cell_type": "code",
   "execution_count": 17,
   "id": "8a6b9db3",
   "metadata": {},
   "outputs": [
    {
     "name": "stdout",
     "output_type": "stream",
     "text": [
      "15\n",
      "1\n"
     ]
    }
   ],
   "source": [
    "from calc import *\n",
    "a=8\n",
    "b=7\n",
    "\n",
    "c=add(a,b)\n",
    "d=sub(a,b)\n",
    "print(c)\n",
    "print(d)"
   ]
  }
 ],
 "metadata": {
  "kernelspec": {
   "display_name": "Python 3 (ipykernel)",
   "language": "python",
   "name": "python3"
  },
  "language_info": {
   "codemirror_mode": {
    "name": "ipython",
    "version": 3
   },
   "file_extension": ".py",
   "mimetype": "text/x-python",
   "name": "python",
   "nbconvert_exporter": "python",
   "pygments_lexer": "ipython3",
   "version": "3.10.2"
  }
 },
 "nbformat": 4,
 "nbformat_minor": 5
}
