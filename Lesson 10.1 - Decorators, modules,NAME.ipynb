{
 "cells": [
  {
   "cell_type": "markdown",
   "id": "00fa7776",
   "metadata": {},
   "source": [
    "### Decorators \n",
    "    \n",
    "    Decorators are a powerful feature of Python that let you modify the behaviour of a function or class without changing its original code."
   ]
  },
  {
   "cell_type": "code",
   "execution_count": 2,
   "id": "30aabbc5",
   "metadata": {},
   "outputs": [
    {
     "name": "stdout",
     "output_type": "stream",
     "text": [
      "2.0\n",
      "0.5\n"
     ]
    }
   ],
   "source": [
    "def div(a,b):\n",
    "    print(a/b)\n",
    "\n",
    "div(4,2)\n",
    "div(2,4)\n"
   ]
  },
  {
   "cell_type": "code",
   "execution_count": 9,
   "id": "70d54138",
   "metadata": {
    "collapsed": true
   },
   "outputs": [
    {
     "name": "stdout",
     "output_type": "stream",
     "text": [
      "2.0\n",
      "2.0\n"
     ]
    }
   ],
   "source": [
    "# say i want a program with logic where the any number will be passed but when division is perfromed the first number shd be greater than second\n",
    "\n",
    "def div(a,b):\n",
    "    if a<b:\n",
    "        a,b=b,a\n",
    "    print(a/b)\n",
    "\n",
    "div(4,2)\n",
    "div(2,4) #should return 2.0\n",
    "\n",
    "\n"
   ]
  },
  {
   "cell_type": "code",
   "execution_count": 8,
   "id": "37225af0",
   "metadata": {},
   "outputs": [
    {
     "name": "stdout",
     "output_type": "stream",
     "text": [
      "2.0\n"
     ]
    }
   ],
   "source": [
    "# imagine the division code is not in your hand , so u cannot change the orginal code. so use decorators\n",
    "\n",
    "def div(a,b):\n",
    "    print(a/b)\n",
    "    \n",
    "def smart_div(func):\n",
    "    \n",
    "    def inner(a,b):\n",
    "        if a<b:\n",
    "            a,b=b,a\n",
    "        return func(a,b)\n",
    "    \n",
    "    return inner\n",
    "\n",
    "div=smart_div(div)\n",
    "\n",
    "div(2,4)\n",
    "            \n",
    "\n",
    "\n"
   ]
  },
  {
   "cell_type": "code",
   "execution_count": 12,
   "id": "c5d2af95",
   "metadata": {},
   "outputs": [
    {
     "name": "stdout",
     "output_type": "stream",
     "text": [
      "2.0\n",
      "inner\n"
     ]
    }
   ],
   "source": [
    "\n",
    "def div(a,b):\n",
    "    print(a/b)\n",
    "    \n",
    "def smart_div(func):\n",
    "    \n",
    "    def inner(a,b):\n",
    "        if a<b:\n",
    "            a,b=b,a\n",
    "        return func(a,b)\n",
    "    \n",
    "    return inner\n",
    "\n",
    "div=smart_div(div)\n",
    "\n",
    "\n",
    "div(2,4)\n",
    "\n",
    "print(div.__name__)\n",
    "            "
   ]
  },
  {
   "cell_type": "markdown",
   "id": "2ca1bdf5",
   "metadata": {},
   "source": [
    "### Special variable called NAME"
   ]
  },
  {
   "cell_type": "markdown",
   "id": "55ae28d6",
   "metadata": {},
   "source": [
    "In Python, the __name__ special variable has various uses, especially in determining the context in which a Python script or module is executed. Its main purpose is to identify whether a Python file is being run as the main program or if it's being imported as a module into another script.\n",
    "\n",
    "When a Python script is executed, Python assigns the value \"__main__\" to the __name__ variable within that script. If the script is imported as a module into another script, the __name__ variable is set to the name of the module instead.\n",
    "\n",
    "This functionality allows code within a module to be executed conditionally based on whether it's the main program or being imported as a module. For instance, it's commonly used to include code that should run only when the script is executed directly, not when it's imported."
   ]
  },
  {
   "cell_type": "markdown",
   "id": "f1d0e345",
   "metadata": {},
   "source": [
    "https://www.youtube.com/watch?v=pzNISmtmzcY&list=PLsyeobzWxl7poL9JTVyndKe62ieoN-MZ3&index=51"
   ]
  },
  {
   "cell_type": "code",
   "execution_count": null,
   "id": "00ab5719",
   "metadata": {},
   "outputs": [],
   "source": []
  },
  {
   "cell_type": "code",
   "execution_count": null,
   "id": "604786e6",
   "metadata": {},
   "outputs": [],
   "source": []
  }
 ],
 "metadata": {
  "kernelspec": {
   "display_name": "Python 3 (ipykernel)",
   "language": "python",
   "name": "python3"
  },
  "language_info": {
   "codemirror_mode": {
    "name": "ipython",
    "version": 3
   },
   "file_extension": ".py",
   "mimetype": "text/x-python",
   "name": "python",
   "nbconvert_exporter": "python",
   "pygments_lexer": "ipython3",
   "version": "3.10.2"
  }
 },
 "nbformat": 4,
 "nbformat_minor": 5
}
