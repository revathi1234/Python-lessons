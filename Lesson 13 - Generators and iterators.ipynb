{
 "cells": [
  {
   "cell_type": "code",
   "execution_count": 2,
   "id": "40cf07c4",
   "metadata": {},
   "outputs": [
    {
     "name": "stdout",
     "output_type": "stream",
     "text": [
      "7\n",
      "8\n",
      "9\n",
      "5\n"
     ]
    }
   ],
   "source": [
    "## iterator\n",
    "\n",
    "\n",
    "nums=[7,8,9,5]\n",
    "\n",
    "\n",
    "for i in nums:\n",
    "    print(i)\n"
   ]
  },
  {
   "cell_type": "code",
   "execution_count": 18,
   "id": "2bd861e6",
   "metadata": {},
   "outputs": [
    {
     "name": "stdout",
     "output_type": "stream",
     "text": [
      "7\n"
     ]
    }
   ],
   "source": [
    "nums=[7,8,9,5]\n",
    "it = iter(nums)\n",
    "print(it.__next__())"
   ]
  },
  {
   "cell_type": "code",
   "execution_count": 12,
   "id": "df590d01",
   "metadata": {},
   "outputs": [
    {
     "name": "stdout",
     "output_type": "stream",
     "text": [
      "8\n"
     ]
    }
   ],
   "source": [
    "print(it.__next__())"
   ]
  },
  {
   "cell_type": "code",
   "execution_count": 13,
   "id": "5195d4c1",
   "metadata": {},
   "outputs": [
    {
     "name": "stdout",
     "output_type": "stream",
     "text": [
      "9\n"
     ]
    }
   ],
   "source": [
    "print(it.__next__())"
   ]
  },
  {
   "cell_type": "code",
   "execution_count": 14,
   "id": "01ce41a1",
   "metadata": {},
   "outputs": [
    {
     "name": "stdout",
     "output_type": "stream",
     "text": [
      "5\n"
     ]
    }
   ],
   "source": [
    "print(it.__next__())"
   ]
  },
  {
   "cell_type": "code",
   "execution_count": 15,
   "id": "6da64219",
   "metadata": {},
   "outputs": [
    {
     "ename": "StopIteration",
     "evalue": "",
     "output_type": "error",
     "traceback": [
      "\u001b[1;31m---------------------------------------------------------------------------\u001b[0m",
      "\u001b[1;31mStopIteration\u001b[0m                             Traceback (most recent call last)",
      "Input \u001b[1;32mIn [15]\u001b[0m, in \u001b[0;36m<cell line: 1>\u001b[1;34m()\u001b[0m\n\u001b[1;32m----> 1\u001b[0m \u001b[38;5;28mprint\u001b[39m(\u001b[43mit\u001b[49m\u001b[38;5;241;43m.\u001b[39;49m\u001b[38;5;21;43m__next__\u001b[39;49m\u001b[43m(\u001b[49m\u001b[43m)\u001b[49m)\n",
      "\u001b[1;31mStopIteration\u001b[0m: "
     ]
    }
   ],
   "source": [
    "print(it.__next__())"
   ]
  },
  {
   "cell_type": "code",
   "execution_count": 19,
   "id": "effa48fb",
   "metadata": {},
   "outputs": [
    {
     "name": "stdout",
     "output_type": "stream",
     "text": [
      "8\n"
     ]
    }
   ],
   "source": [
    "print(next(it))"
   ]
  },
  {
   "cell_type": "code",
   "execution_count": 20,
   "id": "773acce1",
   "metadata": {},
   "outputs": [
    {
     "name": "stdout",
     "output_type": "stream",
     "text": [
      "7\n",
      "8\n",
      "9\n",
      "5\n"
     ]
    }
   ],
   "source": [
    "for i in nums:\n",
    "    print(i)\n",
    "    "
   ]
  },
  {
   "cell_type": "code",
   "execution_count": 26,
   "id": "48df5633",
   "metadata": {},
   "outputs": [
    {
     "name": "stdout",
     "output_type": "stream",
     "text": [
      "1\n",
      "4\n",
      "5\n",
      "6\n",
      "7\n",
      "8\n",
      "9\n",
      "0\n",
      "2\n",
      "3\n",
      " \n",
      "1\n"
     ]
    }
   ],
   "source": [
    "\n",
    "\n",
    "\n",
    "nums=[1,4,5,6,7,8,9,0,2,3]\n",
    "for i in nums:\n",
    "    print(i)\n",
    "print(' ')\n",
    "    \n",
    "    \n",
    "print(nums[0])"
   ]
  },
  {
   "cell_type": "code",
   "execution_count": 31,
   "id": "b3d87669",
   "metadata": {},
   "outputs": [
    {
     "name": "stdout",
     "output_type": "stream",
     "text": [
      "1\n",
      "2\n",
      "3\n",
      "4\n",
      "5\n",
      "6\n",
      "7\n",
      "8\n",
      "9\n",
      "10\n"
     ]
    }
   ],
   "source": [
    "# buidling your own itertor (own class and object), for that first u need two methods iter  and next\n",
    "# iter method gives object of iteratore, next method give sthe next value or object\n",
    "#to print top 10 values (not all , one by one)\n",
    "\n",
    "class topten:\n",
    "    \n",
    "    def __init__(self):\n",
    "        self.num=1\n",
    "        \n",
    "    def __iter__(self):\n",
    "        return self\n",
    "    \n",
    "    def __next__(self):\n",
    "        \n",
    "        if self.num<=10:\n",
    "            val=self.num\n",
    "            self.num += 1\n",
    "        \n",
    "            return val\n",
    "        \n",
    "        else:\n",
    "            raise StopIteration   #raising exception\n",
    "    \n",
    "values=topten()\n",
    "\n",
    "#print(next(values))    #even if u run u wont get 1 twice (thats the power of iterraor it gies values onlu once)\n",
    "\n",
    "for i in values:\n",
    "    print(i)\n",
    "    "
   ]
  },
  {
   "cell_type": "code",
   "execution_count": 32,
   "id": "dcdb58c6",
   "metadata": {},
   "outputs": [
    {
     "name": "stdout",
     "output_type": "stream",
     "text": [
      "1\n",
      "2\n",
      "3\n",
      "4\n",
      "5\n"
     ]
    }
   ],
   "source": [
    "my_list = [1, 2, 3, 4, 5]\n",
    "iter_obj = iter(my_list)\n",
    "\n",
    "for element in iter_obj:\n",
    "    print(element)"
   ]
  },
  {
   "cell_type": "markdown",
   "id": "8ebc8f8b",
   "metadata": {},
   "source": [
    "While for loops are generally more readable and convenient for simple iteration tasks, iterators are valuable in scenarios requiring customized or fine-tuned iteration behavior, dealing with large datasets, implementing lazy evaluation, working with complex data structures, or when performance optimizations are necessary."
   ]
  },
  {
   "cell_type": "markdown",
   "id": "92947e5e",
   "metadata": {},
   "source": [
    "## GENERATORS"
   ]
  },
  {
   "cell_type": "code",
   "execution_count": null,
   "id": "18fb1e1d",
   "metadata": {},
   "outputs": [],
   "source": [
    "generators gives iterators"
   ]
  },
  {
   "cell_type": "code",
   "execution_count": 36,
   "id": "d6da1152",
   "metadata": {},
   "outputs": [
    {
     "name": "stdout",
     "output_type": "stream",
     "text": [
      "<generator object topten at 0x000001B1F11B4040>\n"
     ]
    }
   ],
   "source": [
    "def topten():\n",
    "    \n",
    "    yield 5         #its a genertaor becoz u used yeild, it returns object unlike return\n",
    "    #return 5\n",
    "    \n",
    "    \n",
    "    \n",
    "values=topten()\n",
    "print(values)"
   ]
  },
  {
   "cell_type": "code",
   "execution_count": 35,
   "id": "439d25a3",
   "metadata": {},
   "outputs": [
    {
     "name": "stdout",
     "output_type": "stream",
     "text": [
      "5\n"
     ]
    }
   ],
   "source": [
    "def topten():\n",
    "    \n",
    "    yield 5                 #its a genertaor becoz u used yeild, it returns object unlike return\n",
    "    \n",
    "    \n",
    "    \n",
    "    \n",
    "values=topten()\n",
    "print(values.__next__())   # same as return 5"
   ]
  },
  {
   "cell_type": "code",
   "execution_count": 49,
   "id": "40522465",
   "metadata": {},
   "outputs": [
    {
     "name": "stdout",
     "output_type": "stream",
     "text": [
      "<generator object topten at 0x000001B1F11B4CF0>\n",
      "1\n",
      "2\n",
      "3\n"
     ]
    }
   ],
   "source": [
    "def topten():\n",
    "    \n",
    "    yield 1\n",
    "    yield 2\n",
    "    yield 3\n",
    "    \n",
    "    \n",
    "values=topten()\n",
    "print(values)\n",
    "\n",
    "\n",
    "print(values.__next__())   # or print(next(values))\n",
    "\n",
    "print(values.__next__())\n",
    "\n",
    "print(values.__next__())\n",
    "\n",
    "\n",
    "#or \n",
    "\n",
    "\n",
    "for i in values:\n",
    "    print(i)\n",
    "\n",
    "\n"
   ]
  },
  {
   "cell_type": "code",
   "execution_count": 50,
   "id": "62cb7232",
   "metadata": {},
   "outputs": [
    {
     "name": "stdout",
     "output_type": "stream",
     "text": [
      "1\n",
      "4\n",
      "9\n",
      "16\n",
      "25\n",
      "36\n",
      "49\n",
      "64\n",
      "81\n",
      "100\n"
     ]
    }
   ],
   "source": [
    "# to print perfect square\n",
    "\n",
    "def topten():\n",
    "    \n",
    "    n=1\n",
    "    \n",
    "    while n<=10:\n",
    "        sq=n*n\n",
    "        yield sq\n",
    "        n+=1\n",
    "    \n",
    "    \n",
    "values=topten()\n",
    "\n",
    "\n",
    "for i in values:\n",
    "    print(i)"
   ]
  },
  {
   "cell_type": "markdown",
   "id": "74c72e09",
   "metadata": {},
   "source": [
    "###  program to find squares using generator, for loop and iterators"
   ]
  },
  {
   "cell_type": "code",
   "execution_count": 53,
   "id": "ba1dd9e0",
   "metadata": {},
   "outputs": [
    {
     "name": "stdout",
     "output_type": "stream",
     "text": [
      "0\n",
      "1\n",
      "4\n",
      "9\n",
      "16\n"
     ]
    }
   ],
   "source": [
    "# Using a for loop to create a list of squares of numbers\n",
    "def generate_squares(n):\n",
    "    squares = []\n",
    "    for i in range(n):\n",
    "        squares.append(i ** 2)\n",
    "    return squares\n",
    "\n",
    "# Using the list of squares in a for loop\n",
    "for num in generate_squares(5):\n",
    "    print(num)\n"
   ]
  },
  {
   "cell_type": "markdown",
   "id": "f860268f",
   "metadata": {},
   "source": [
    "Explanation:\n",
    "\n",
    "A function generate_squares generates a list of squares using a for loop and append() method.\n",
    "It constructs the entire list of squares in memory before the loop iterates over it.\n",
    "This method consumes more memory as it stores the entire list of squares in memory at once."
   ]
  },
  {
   "cell_type": "code",
   "execution_count": 54,
   "id": "5cd14597",
   "metadata": {},
   "outputs": [
    {
     "name": "stdout",
     "output_type": "stream",
     "text": [
      "0\n",
      "1\n",
      "4\n",
      "9\n",
      "16\n"
     ]
    }
   ],
   "source": [
    "class SquareIterator:\n",
    "    def __init__(self, n):\n",
    "        self.n = n\n",
    "        self.current = 0\n",
    "\n",
    "    def __iter__(self):\n",
    "        return self\n",
    "\n",
    "    def __next__(self):\n",
    "        if self.current < self.n:\n",
    "            result = self.current ** 2\n",
    "            self.current += 1\n",
    "            return result\n",
    "        else:\n",
    "            raise StopIteration\n",
    "\n",
    "# Using the iterator in a for loop\n",
    "iterator = SquareIterator(5)\n",
    "for num in iterator:\n",
    "    print(num)\n"
   ]
  },
  {
   "cell_type": "markdown",
   "id": "7c2b954c",
   "metadata": {},
   "source": [
    "Explanation:\n",
    "\n",
    "SquareIterator is a custom iterator class implementing __iter__() and __next__() methods.\n",
    "It generates squares of numbers using the iterator protocol.\n",
    "Similar to generators, iterators generate values dynamically and maintain state between calls to __next__().\n",
    "Unlike generators, iterators require explicit implementation of the iterator protocol using class-based approach."
   ]
  },
  {
   "cell_type": "code",
   "execution_count": 56,
   "id": "0f41027d",
   "metadata": {},
   "outputs": [
    {
     "name": "stdout",
     "output_type": "stream",
     "text": [
      "0\n",
      "1\n",
      "4\n",
      "9\n",
      "16\n"
     ]
    }
   ],
   "source": [
    "# Generator function to yield squares of numbers\n",
    "def square_generator(n):\n",
    "    for i in range(n):\n",
    "        yield i ** 2\n",
    "\n",
    "# Using the generator in a for loop\n",
    "for num in square_generator(5):\n",
    "    print(num)"
   ]
  },
  {
   "cell_type": "markdown",
   "id": "533f356d",
   "metadata": {},
   "source": [
    "Explanation:\n",
    "\n",
    "The square_generator function is a generator using the yield statement to lazily produce squares one at a time.\n",
    "It generates values on-the-fly, producing the next square when requested by the loop.\n",
    "Generators conserve memory as they produce values dynamically when iterated over, avoiding the need to store the entire sequence in memory at once."
   ]
  },
  {
   "cell_type": "code",
   "execution_count": null,
   "id": "376b6120",
   "metadata": {},
   "outputs": [],
   "source": [
    "# say u have 1000 records and u have to work with one value at a time , then use genrators"
   ]
  },
  {
   "cell_type": "markdown",
   "id": "93a1d530",
   "metadata": {},
   "source": [
    "### Additional notes"
   ]
  },
  {
   "cell_type": "code",
   "execution_count": 57,
   "id": "8d4fdd2b",
   "metadata": {},
   "outputs": [
    {
     "data": {
      "text/plain": [
       "'\\nAnother way to create a multi-line comment\\nor documentation string in Python.\\nIt can also span multiple lines.\\n'"
      ]
     },
     "execution_count": 57,
     "metadata": {},
     "output_type": "execute_result"
    }
   ],
   "source": [
    "'''\n",
    "This is a multi-line comment or\n",
    "documentation string in Python.\n",
    "It spans multiple lines and is enclosed\n",
    "by triple quotes.\n",
    "'''\n",
    "\n",
    "# Or you can also use triple double quotes\n",
    "\"\"\"\n",
    "Another way to create a multi-line comment\n",
    "or documentation string in Python.\n",
    "It can also span multiple lines.\n",
    "\"\"\""
   ]
  },
  {
   "cell_type": "markdown",
   "id": "76f0d7e0",
   "metadata": {},
   "source": [
    "Python is both interpreted and compiled languague\n",
    "\n",
    "\n",
    "Python's execution model combines interpretation and compilation. It first compiles source code into bytecode, and then the Python interpreter executes this bytecode. The compilation to bytecode happens implicitly and is part of the execution process, giving Python its interpreted nature while also having a compilation step involved."
   ]
  },
  {
   "cell_type": "code",
   "execution_count": null,
   "id": "a447fb4f",
   "metadata": {},
   "outputs": [],
   "source": []
  }
 ],
 "metadata": {
  "kernelspec": {
   "display_name": "Python 3 (ipykernel)",
   "language": "python",
   "name": "python3"
  },
  "language_info": {
   "codemirror_mode": {
    "name": "ipython",
    "version": 3
   },
   "file_extension": ".py",
   "mimetype": "text/x-python",
   "name": "python",
   "nbconvert_exporter": "python",
   "pygments_lexer": "ipython3",
   "version": "3.10.2"
  }
 },
 "nbformat": 4,
 "nbformat_minor": 5
}
