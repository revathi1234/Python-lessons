{
 "cells": [
  {
   "cell_type": "markdown",
   "id": "5d7f5331",
   "metadata": {},
   "source": [
    "## POLYMORPHISM"
   ]
  },
  {
   "cell_type": "markdown",
   "id": "53407422",
   "metadata": {},
   "source": [
    "1 - Duck typing\n",
    "2-  Operator overloading\n",
    "3-  Methods overloading\n",
    "4 - Method overridng"
   ]
  },
  {
   "cell_type": "code",
   "execution_count": 8,
   "id": "cd38d9d5",
   "metadata": {},
   "outputs": [
    {
     "name": "stdout",
     "output_type": "stream",
     "text": [
      "spell check\n",
      "conevntion check\n",
      "compiling\n",
      "running\n"
     ]
    }
   ],
   "source": [
    "#Duck typing-  what's important is not the specific type or class of an object, but rather its behavior or methods.\n",
    "\n",
    "class mycharm:\n",
    "    def execute(self):\n",
    "        print(\"compiling\")\n",
    "        print(\"running\")\n",
    "        \n",
    "class myeditor:\n",
    "     def execute(self):\n",
    "        print(\"spell check\")\n",
    "        print(\"conevntion check\")\n",
    "        print(\"compiling\")\n",
    "        print(\"running\")\n",
    "    \n",
    "    \n",
    "class laptop:\n",
    "    \n",
    "    def code(self,ide):\n",
    "        ide.execute()\n",
    "        \n",
    "#ide = mycharm()\n",
    "ide = myeditor()\n",
    "        \n",
    "lap1=laptop()\n",
    "lap1.code(ide) #passing object as argument\n",
    "        \n"
   ]
  },
  {
   "cell_type": "code",
   "execution_count": 9,
   "id": "4ad42f08",
   "metadata": {},
   "outputs": [
    {
     "name": "stdout",
     "output_type": "stream",
     "text": [
      "Quack!\n",
      "Woof!\n"
     ]
    }
   ],
   "source": [
    "class Duck:\n",
    "    def make_sound(self):\n",
    "        print(\"Quack!\")\n",
    "\n",
    "class Dog:\n",
    "    def make_sound(self):\n",
    "        print(\"Woof!\")\n",
    "\n",
    "def animal_sound(animal):\n",
    "    animal.make_sound()\n",
    "\n",
    "duck = Duck()\n",
    "dog = Dog()\n",
    "\n",
    "animal_sound(duck)  # Outputs: \"Quack!\"\n",
    "animal_sound(dog)   # Outputs: \"Woof!\"\n",
    "        "
   ]
  },
  {
   "cell_type": "code",
   "execution_count": null,
   "id": "49612bc6",
   "metadata": {},
   "outputs": [],
   "source": [
    "Here, the animal_sound() function doesn't care about the specific types of objects passed to it; \n",
    "it only relies on the fact that they both have a make_sound() method. \n",
    "As long as an object has the required behavior (the method it expects), \n",
    "it can be used without explicitly checking its type."
   ]
  },
  {
   "cell_type": "code",
   "execution_count": null,
   "id": "cfab6b80",
   "metadata": {},
   "outputs": [],
   "source": [
    "Duck typing promotes flexibility and code reusability by focusing on what an object can do rather than what it is."
   ]
  },
  {
   "cell_type": "code",
   "execution_count": 10,
   "id": "e2b211de",
   "metadata": {},
   "outputs": [
    {
     "ename": "TypeError",
     "evalue": "unsupported operand type(s) for +: 'int' and 'str'",
     "output_type": "error",
     "traceback": [
      "\u001b[1;31m---------------------------------------------------------------------------\u001b[0m",
      "\u001b[1;31mTypeError\u001b[0m                                 Traceback (most recent call last)",
      "Input \u001b[1;32mIn [10]\u001b[0m, in \u001b[0;36m<cell line: 7>\u001b[1;34m()\u001b[0m\n\u001b[0;32m      4\u001b[0m a\u001b[38;5;241m=\u001b[39m\u001b[38;5;241m5\u001b[39m\n\u001b[0;32m      5\u001b[0m b\u001b[38;5;241m=\u001b[39m\u001b[38;5;124m'\u001b[39m\u001b[38;5;124mrev\u001b[39m\u001b[38;5;124m'\u001b[39m\n\u001b[1;32m----> 7\u001b[0m \u001b[38;5;28mprint\u001b[39m(\u001b[43ma\u001b[49m\u001b[38;5;241;43m+\u001b[39;49m\u001b[43mb\u001b[49m)\n",
      "\u001b[1;31mTypeError\u001b[0m: unsupported operand type(s) for +: 'int' and 'str'"
     ]
    }
   ],
   "source": [
    "# Operator overloading   , whenever u call operators like +, - methods are called internally. So how do we override them\n",
    "\n",
    "\n",
    "a=5\n",
    "b='rev'\n",
    "\n",
    "print(a+b)\n"
   ]
  },
  {
   "cell_type": "code",
   "execution_count": 11,
   "id": "6f82b31b",
   "metadata": {},
   "outputs": [
    {
     "name": "stdout",
     "output_type": "stream",
     "text": [
      "15\n",
      "15\n"
     ]
    }
   ],
   "source": [
    "a=6\n",
    "b=9\n",
    "\n",
    "print(a+b)\n",
    "print(int.__add__(a,b))   # internally this is invoked"
   ]
  },
  {
   "cell_type": "code",
   "execution_count": 12,
   "id": "fdc37133",
   "metadata": {},
   "outputs": [
    {
     "name": "stdout",
     "output_type": "stream",
     "text": [
      "80\n",
      "80\n"
     ]
    }
   ],
   "source": [
    "a='8'\n",
    "b='0'\n",
    "print(a+b)\n",
    "print(str.__add__(a,b))   # internally this is invoked\n"
   ]
  },
  {
   "cell_type": "code",
   "execution_count": null,
   "id": "6d561909",
   "metadata": {},
   "outputs": [],
   "source": [
    "# internally str and int is used seperately not  together"
   ]
  },
  {
   "cell_type": "code",
   "execution_count": 13,
   "id": "9abf6e63",
   "metadata": {},
   "outputs": [
    {
     "ename": "TypeError",
     "evalue": "unsupported operand type(s) for +: 'student' and 'student'",
     "output_type": "error",
     "traceback": [
      "\u001b[1;31m---------------------------------------------------------------------------\u001b[0m",
      "\u001b[1;31mTypeError\u001b[0m                                 Traceback (most recent call last)",
      "Input \u001b[1;32mIn [13]\u001b[0m, in \u001b[0;36m<cell line: 11>\u001b[1;34m()\u001b[0m\n\u001b[0;32m      7\u001b[0m s1\u001b[38;5;241m=\u001b[39mstudent(\u001b[38;5;241m34\u001b[39m,\u001b[38;5;241m56\u001b[39m)\n\u001b[0;32m      8\u001b[0m s2\u001b[38;5;241m=\u001b[39mstudent(\u001b[38;5;241m90\u001b[39m,\u001b[38;5;241m87\u001b[39m)\n\u001b[1;32m---> 11\u001b[0m s3\u001b[38;5;241m=\u001b[39m\u001b[43ms1\u001b[49m\u001b[38;5;241;43m+\u001b[39;49m\u001b[43ms2\u001b[49m\n",
      "\u001b[1;31mTypeError\u001b[0m: unsupported operand type(s) for +: 'student' and 'student'"
     ]
    }
   ],
   "source": [
    "class student:\n",
    "    \n",
    "    def __init__(self,m1,m2):\n",
    "        self.m1=m1\n",
    "        self.m2=m2\n",
    "        \n",
    "s1=student(34,56)\n",
    "s2=student(90,87)\n",
    "\n",
    "\n",
    "s3=s1+s2   # trying to add students m1 and m2 marks individually \n",
    "   "
   ]
  },
  {
   "cell_type": "code",
   "execution_count": 15,
   "id": "39c988ed",
   "metadata": {},
   "outputs": [
    {
     "name": "stdout",
     "output_type": "stream",
     "text": [
      "124\n",
      "143\n"
     ]
    }
   ],
   "source": [
    "class student:\n",
    "    \n",
    "    def __init__(self,m1,m2):\n",
    "        self.m1=m1\n",
    "        self.m2=m2\n",
    "        \n",
    "    def __add__(self,other):             # s1 is self and s2 is other\n",
    "        m1 = self.m1 + other.m1\n",
    "        m2 = self.m2 + other.m2\n",
    "        s3=student(m1,m2)\n",
    "        \n",
    "        return s3\n",
    "        \n",
    "        \n",
    "s1=student(34,56)\n",
    "s2=student(90,87)\n",
    "\n",
    "\n",
    "s3=s1+s2  # internally student.__add__(s1,s2) is getting invoked \n",
    "\n",
    "print(s3.m1)\n",
    "print(s3.m2)"
   ]
  },
  {
   "cell_type": "code",
   "execution_count": 20,
   "id": "9ceddf00",
   "metadata": {},
   "outputs": [
    {
     "name": "stdout",
     "output_type": "stream",
     "text": [
      "Sum of marks for 5 students:\n",
      "355\n",
      "370\n"
     ]
    }
   ],
   "source": [
    "class student:\n",
    "    def __init__(self, m1, m2):\n",
    "        self.m1 = m1\n",
    "        self.m2 = m2\n",
    "\n",
    "    def __add__(self, other):\n",
    "        m1 = self.m1 + other.m1\n",
    "        m2 = self.m2 + other.m2\n",
    "        s = student(m1, m2)\n",
    "        return s\n",
    "\n",
    "# Creating 5 student objects with different marks\n",
    "s1 = student(50, 60)\n",
    "s2 = student(70, 80)\n",
    "s3 = student(90, 85)\n",
    "s4 = student(65, 75)\n",
    "s5 = student(80, 70)\n",
    "\n",
    "# Performing addition among 5 students using __add__ method\n",
    "result = s1 + s2 + s3 + s4 + s5\n",
    "\n",
    "print(\"Sum of marks for 5 students:\")\n",
    "print(result.m1)  # Prints the sum of m1 for all students\n",
    "print(result.m2)  # Prints the sum of m2 for all students\n"
   ]
  },
  {
   "cell_type": "code",
   "execution_count": 18,
   "id": "eb1c3c90",
   "metadata": {},
   "outputs": [
    {
     "name": "stdout",
     "output_type": "stream",
     "text": [
      "Sum of marks for all 10 students:\n",
      "725\n",
      "770\n"
     ]
    }
   ],
   "source": [
    "class student:\n",
    "    def __init__(self, m1, m2):\n",
    "        self.m1 = m1\n",
    "        self.m2 = m2\n",
    "\n",
    "    def __add__(self, other):\n",
    "        m1 = self.m1 + other.m1\n",
    "        m2 = self.m2 + other.m2\n",
    "        s = student(m1, m2)\n",
    "        return s\n",
    "\n",
    "# Creating 10 student objects with different marks\n",
    "students = [student(50, 60), student(70, 80), student(90, 85),\n",
    "            student(65, 75), student(80, 70), student(55, 65),\n",
    "            student(75, 95), student(85, 90), student(95, 100),\n",
    "            student(60, 50)]\n",
    "\n",
    "# Initializing the result with the first student\n",
    "result = students[0]\n",
    "\n",
    "# Performing addition of marks for all students\n",
    "for i in range(1, len(students)):\n",
    "    result = result + students[i]\n",
    "\n",
    "print(\"Sum of marks for all 10 students:\")\n",
    "print(result.m1)  # Prints the sum of m1 for all students\n",
    "print(result.m2)  # Prints the sum of m2 for all students\n"
   ]
  },
  {
   "cell_type": "code",
   "execution_count": 19,
   "id": "69170972",
   "metadata": {},
   "outputs": [
    {
     "name": "stdout",
     "output_type": "stream",
     "text": [
      "Sum of marks for 5 students:\n",
      "355\n",
      "370\n"
     ]
    }
   ],
   "source": [
    "from functools import reduce\n",
    "\n",
    "class student:\n",
    "    def __init__(self, m1, m2):\n",
    "        self.m1 = m1\n",
    "        self.m2 = m2\n",
    "\n",
    "    def __add__(self, other):\n",
    "        m1 = self.m1 + other.m1\n",
    "        m2 = self.m2 + other.m2\n",
    "        s = student(m1, m2)\n",
    "        return s\n",
    "\n",
    "# Creating 5 student objects with different marks\n",
    "s1 = student(50, 60)\n",
    "s2 = student(70, 80)\n",
    "s3 = student(90, 85)\n",
    "s4 = student(65, 75)\n",
    "s5 = student(80, 70)\n",
    "\n",
    "# Performing addition of marks for all 5 students using reduce()\n",
    "result = reduce(lambda x, y: x + y, [s1, s2, s3, s4, s5])\n",
    "\n",
    "print(\"Sum of marks for 5 students:\")\n",
    "print(result.m1)  # Prints the sum of m1 for all students\n",
    "print(result.m2)  # Prints the sum of m2 for all students\n"
   ]
  },
  {
   "cell_type": "code",
   "execution_count": 21,
   "id": "e4c3b78b",
   "metadata": {},
   "outputs": [
    {
     "ename": "TypeError",
     "evalue": "'>' not supported between instances of 'student' and 'student'",
     "output_type": "error",
     "traceback": [
      "\u001b[1;31m---------------------------------------------------------------------------\u001b[0m",
      "\u001b[1;31mTypeError\u001b[0m                                 Traceback (most recent call last)",
      "Input \u001b[1;32mIn [21]\u001b[0m, in \u001b[0;36m<cell line: 20>\u001b[1;34m()\u001b[0m\n\u001b[0;32m     17\u001b[0m s1\u001b[38;5;241m=\u001b[39mstudent(\u001b[38;5;241m34\u001b[39m,\u001b[38;5;241m56\u001b[39m)\n\u001b[0;32m     18\u001b[0m s2\u001b[38;5;241m=\u001b[39mstudent(\u001b[38;5;241m90\u001b[39m,\u001b[38;5;241m87\u001b[39m)\n\u001b[1;32m---> 20\u001b[0m \u001b[38;5;28;01mif\u001b[39;00m \u001b[43ms1\u001b[49m\u001b[38;5;241;43m>\u001b[39;49m\u001b[43ms2\u001b[49m:\n\u001b[0;32m     21\u001b[0m     \u001b[38;5;28mprint\u001b[39m(\u001b[38;5;124m\"\u001b[39m\u001b[38;5;124ms1 wins\u001b[39m\u001b[38;5;124m\"\u001b[39m)\n\u001b[0;32m     22\u001b[0m \u001b[38;5;28;01melse\u001b[39;00m:\n",
      "\u001b[1;31mTypeError\u001b[0m: '>' not supported between instances of 'student' and 'student'"
     ]
    }
   ],
   "source": [
    "# to compare if s1>s2\n",
    "\n",
    "class student:\n",
    "    \n",
    "    def __init__(self,m1,m2):\n",
    "        self.m1=m1\n",
    "        self.m2=m2\n",
    "        \n",
    "    def __add__(self,other):             # s1 is self and s2 is other\n",
    "        m1 = self.m1 + other.m1\n",
    "        m2 = self.m2 + other.m2\n",
    "        s3=student(m1,m2)\n",
    "        \n",
    "        return s3\n",
    "        \n",
    "        \n",
    "s1=student(34,56)\n",
    "s2=student(90,87)\n",
    "\n",
    "if s1>s2:\n",
    "    print(\"s1 wins\")\n",
    "else:\n",
    "    print(\"s2 wins\")"
   ]
  },
  {
   "cell_type": "code",
   "execution_count": 30,
   "id": "4b6a34dd",
   "metadata": {},
   "outputs": [
    {
     "name": "stdout",
     "output_type": "stream",
     "text": [
      "s1 wins\n"
     ]
    }
   ],
   "source": [
    "# to compare if s1>s2\n",
    "\n",
    "class student:\n",
    "    \n",
    "    def __init__(self,m1,m2):\n",
    "        self.m1=m1\n",
    "        self.m2=m2\n",
    "        \n",
    "    def __add__(self,other):             # s1 is self and s2 is other\n",
    "        m1 = self.m1 + other.m1\n",
    "        m2 = self.m2 + other.m2\n",
    "        s3=student(m1,m2)\n",
    "        \n",
    "        return s3\n",
    "    \n",
    "    def __gt__(self,other):\n",
    "        r1=self.m1+self.m2\n",
    "        r2=other.m1+other.m2\n",
    "        if r1>r2:\n",
    "            return True\n",
    "        else:\n",
    "            return False\n",
    "        \n",
    "        \n",
    "s1=student(134,56)\n",
    "s2=student(9,87)\n",
    "\n",
    "if s1>s2:\n",
    "    print(\"s1 wins\")\n",
    "else:\n",
    "    print(\"s2 wins\")\n",
    "    \n",
    "\n"
   ]
  },
  {
   "cell_type": "code",
   "execution_count": 31,
   "id": "5c1cb880",
   "metadata": {},
   "outputs": [
    {
     "name": "stdout",
     "output_type": "stream",
     "text": [
      "<__main__.student object at 0x000001C36A978A90>\n"
     ]
    }
   ],
   "source": [
    "print(s1) # prints address becoz it calls s1.__str__() is called , so override it to get values"
   ]
  },
  {
   "cell_type": "code",
   "execution_count": 36,
   "id": "aef9651a",
   "metadata": {},
   "outputs": [
    {
     "name": "stdout",
     "output_type": "stream",
     "text": [
      "s1 wins\n",
      " 134 56 \n",
      " 9 87 \n"
     ]
    }
   ],
   "source": [
    "class student:\n",
    "    \n",
    "    def __init__(self,m1,m2):\n",
    "        self.m1=m1\n",
    "        self.m2=m2\n",
    "        \n",
    "    def __add__(self,other):             # s1 is self and s2 is other\n",
    "        m1 = self.m1 + other.m1\n",
    "        m2 = self.m2 + other.m2\n",
    "        s3=student(m1,m2)\n",
    "        \n",
    "        return s3\n",
    "    \n",
    "    def __gt__(self,other):\n",
    "        r1=self.m1+self.m2\n",
    "        r2=other.m1+other.m2\n",
    "        if r1>r2:\n",
    "            return True\n",
    "        else:\n",
    "            return False\n",
    "        \n",
    "    def __str__(self):\n",
    "        return ' {} {} '.format(self.m1,self.m2)\n",
    "        \n",
    "        \n",
    "        \n",
    "s1=student(134,56)\n",
    "s2=student(9,87)\n",
    "\n",
    "if s1>s2:\n",
    "    print(\"s1 wins\")\n",
    "else:\n",
    "    print(\"s2 wins\")\n",
    "    \n",
    "print(s1)\n",
    "    \n",
    "print(s2)"
   ]
  },
  {
   "cell_type": "markdown",
   "id": "2edf6891",
   "metadata": {},
   "source": [
    "## method overloading"
   ]
  },
  {
   "cell_type": "code",
   "execution_count": null,
   "id": "08766483",
   "metadata": {},
   "outputs": [],
   "source": [
    "# method overloading, two methods with same name but different argument, (but this is not there in python)\n",
    "In Python, as mentioned earlier, there's no direct support for method overloading as in languages like Java or C++, where you can define multiple methods with the same name but different parameter lists."
   ]
  },
  {
   "cell_type": "code",
   "execution_count": 39,
   "id": "ab170a72",
   "metadata": {},
   "outputs": [
    {
     "ename": "TypeError",
     "evalue": "student.sum() missing 1 required positional argument: 'c'",
     "output_type": "error",
     "traceback": [
      "\u001b[1;31m---------------------------------------------------------------------------\u001b[0m",
      "\u001b[1;31mTypeError\u001b[0m                                 Traceback (most recent call last)",
      "Input \u001b[1;32mIn [39]\u001b[0m, in \u001b[0;36m<cell line: 15>\u001b[1;34m()\u001b[0m\n\u001b[0;32m      9\u001b[0m         \u001b[38;5;28;01mreturn\u001b[39;00m s\n\u001b[0;32m     14\u001b[0m s1\u001b[38;5;241m=\u001b[39mstudent(\u001b[38;5;241m134\u001b[39m,\u001b[38;5;241m56\u001b[39m)\n\u001b[1;32m---> 15\u001b[0m \u001b[38;5;28mprint\u001b[39m(\u001b[43ms1\u001b[49m\u001b[38;5;241;43m.\u001b[39;49m\u001b[43msum\u001b[49m\u001b[43m(\u001b[49m\u001b[38;5;241;43m5\u001b[39;49m\u001b[43m,\u001b[49m\u001b[38;5;241;43m6\u001b[39;49m\u001b[43m)\u001b[49m)\n",
      "\u001b[1;31mTypeError\u001b[0m: student.sum() missing 1 required positional argument: 'c'"
     ]
    }
   ],
   "source": [
    "class student:\n",
    "    \n",
    "    def __init__(self,m1,m2):\n",
    "        self.m1=m1\n",
    "        self.m2=m2\n",
    "        \n",
    "    def sum(self,a,b,c):\n",
    "        s=a+b+c\n",
    "        return s\n",
    "\n",
    "        \n",
    "        \n",
    "        \n",
    "s1=student(134,56)\n",
    "print(s1.sum(5,6))\n"
   ]
  },
  {
   "cell_type": "code",
   "execution_count": 49,
   "id": "b268d6aa",
   "metadata": {},
   "outputs": [
    {
     "name": "stdout",
     "output_type": "stream",
     "text": [
      "26\n",
      "17\n",
      "9\n"
     ]
    }
   ],
   "source": [
    "class student:\n",
    "    \n",
    "    def __init__(self,m1,m2):\n",
    "        self.m1=m1\n",
    "        self.m2=m2\n",
    "        \n",
    "        \n",
    "    def sum(self,a=None,b=None,c=None):\n",
    "        s=0\n",
    "        if a!=None and b!=None and c!=None:\n",
    "            s=a+b+c\n",
    "        elif a!=None and b!=None:\n",
    "            s=a+b\n",
    "        else:\n",
    "            s=a\n",
    "        return s\n",
    "\n",
    "        \n",
    "        \n",
    "# method overloading       \n",
    "\n",
    "print(s1.sum(9,8,9))\n",
    "print(s1.sum(9,8))\n",
    "print(s1.sum(9))\n"
   ]
  },
  {
   "cell_type": "markdown",
   "id": "a4c69bcb",
   "metadata": {},
   "source": [
    "## method overriding"
   ]
  },
  {
   "cell_type": "code",
   "execution_count": 54,
   "id": "642df23d",
   "metadata": {},
   "outputs": [
    {
     "name": "stdout",
     "output_type": "stream",
     "text": [
      "In B show\n"
     ]
    }
   ],
   "source": [
    "class A:\n",
    "    \n",
    "    def show(self):\n",
    "        print(\"In A show\")\n",
    "        \n",
    "class B(A):\n",
    "    \n",
    "    def show(self):\n",
    "        print(\"In B show\")\n",
    "    \n",
    "a1=B()\n",
    "a1.show()\n",
    "\n",
    "\n",
    "# when u have ua phone u dont say ua father's phone , if u dont then u take father's phone"
   ]
  },
  {
   "cell_type": "code",
   "execution_count": 55,
   "id": "448d9226",
   "metadata": {},
   "outputs": [
    {
     "name": "stdout",
     "output_type": "stream",
     "text": [
      "Woof!\n",
      "Meow!\n"
     ]
    }
   ],
   "source": [
    "class Animal:\n",
    "    def sound(self):\n",
    "        print(\"Some generic sound\")\n",
    "\n",
    "class Dog(Animal):\n",
    "    def sound(self):\n",
    "        print(\"Woof!\")\n",
    "\n",
    "class Cat(Animal):\n",
    "    def sound(self):\n",
    "        print(\"Meow!\")\n",
    "\n",
    "# Creating instances of Dog and Cat\n",
    "dog = Dog()\n",
    "cat = Cat()\n",
    "\n",
    "# Calling the overridden method sound for Dog and Cat instances\n",
    "dog.sound()  # Outputs: \"Woof!\"\n",
    "cat.sound()  # Outputs: \"Meow!\"\n"
   ]
  },
  {
   "cell_type": "markdown",
   "id": "21a1d661",
   "metadata": {},
   "source": [
    "There's a base class Animal with a method sound that provides a generic sound.\n",
    "The Dog and Cat classes inherit from Animal and override the sound method with their own implementations (Woof! for Dog and Meow! for Cat).\n",
    "When the sound method is called for instances of Dog and Cat, their respective overridden versions are invoked, and the specific sound for each subclass is printed."
   ]
  },
  {
   "cell_type": "code",
   "execution_count": null,
   "id": "d749604b",
   "metadata": {},
   "outputs": [],
   "source": []
  },
  {
   "cell_type": "code",
   "execution_count": null,
   "id": "4cd31fb5",
   "metadata": {},
   "outputs": [],
   "source": []
  },
  {
   "cell_type": "code",
   "execution_count": null,
   "id": "5b55d99a",
   "metadata": {},
   "outputs": [],
   "source": []
  },
  {
   "cell_type": "code",
   "execution_count": null,
   "id": "08896622",
   "metadata": {},
   "outputs": [],
   "source": []
  }
 ],
 "metadata": {
  "kernelspec": {
   "display_name": "Python 3 (ipykernel)",
   "language": "python",
   "name": "python3"
  },
  "language_info": {
   "codemirror_mode": {
    "name": "ipython",
    "version": 3
   },
   "file_extension": ".py",
   "mimetype": "text/x-python",
   "name": "python",
   "nbconvert_exporter": "python",
   "pygments_lexer": "ipython3",
   "version": "3.10.2"
  }
 },
 "nbformat": 4,
 "nbformat_minor": 5
}
