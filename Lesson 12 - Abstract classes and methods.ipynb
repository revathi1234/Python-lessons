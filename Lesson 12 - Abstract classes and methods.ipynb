{
 "cells": [
  {
   "cell_type": "code",
   "execution_count": 2,
   "id": "176a1ec0",
   "metadata": {},
   "outputs": [
    {
     "ename": "TypeError",
     "evalue": "Can't instantiate abstract class computer with abstract method process",
     "output_type": "error",
     "traceback": [
      "\u001b[1;31m---------------------------------------------------------------------------\u001b[0m",
      "\u001b[1;31mTypeError\u001b[0m                                 Traceback (most recent call last)",
      "Input \u001b[1;32mIn [2]\u001b[0m, in \u001b[0;36m<cell line: 15>\u001b[1;34m()\u001b[0m\n\u001b[0;32m     10\u001b[0m     \u001b[38;5;129m@abstractmethod\u001b[39m\n\u001b[0;32m     11\u001b[0m     \u001b[38;5;28;01mdef\u001b[39;00m \u001b[38;5;21mprocess\u001b[39m(\u001b[38;5;28mself\u001b[39m):\n\u001b[0;32m     12\u001b[0m         \u001b[38;5;28;01mpass\u001b[39;00m\n\u001b[1;32m---> 15\u001b[0m com\u001b[38;5;241m=\u001b[39m\u001b[43mcomputer\u001b[49m\u001b[43m(\u001b[49m\u001b[43m)\u001b[49m\n\u001b[0;32m     16\u001b[0m com\u001b[38;5;241m.\u001b[39mprocess()\n",
      "\u001b[1;31mTypeError\u001b[0m: Can't instantiate abstract class computer with abstract method process"
     ]
    }
   ],
   "source": [
    "# abstact class and methods\n",
    "\n",
    "#abstract methods -  which has function declaration but not body , so u cannot create object of computer\n",
    "#abstract class= class which has abstract methods\n",
    "\n",
    "from abc import ABC, abstractmethod\n",
    "\n",
    "\n",
    "class computer(ABC):\n",
    "    @abstractmethod\n",
    "    def process(self):\n",
    "        pass\n",
    "        \n",
    "        \n",
    "com=computer()\n",
    "com.process()\n",
    "        \n",
    "        "
   ]
  },
  {
   "cell_type": "code",
   "execution_count": 3,
   "id": "e90eb706",
   "metadata": {},
   "outputs": [
    {
     "ename": "TypeError",
     "evalue": "Can't instantiate abstract class laptop with abstract method process",
     "output_type": "error",
     "traceback": [
      "\u001b[1;31m---------------------------------------------------------------------------\u001b[0m",
      "\u001b[1;31mTypeError\u001b[0m                                 Traceback (most recent call last)",
      "Input \u001b[1;32mIn [3]\u001b[0m, in \u001b[0;36m<cell line: 16>\u001b[1;34m()\u001b[0m\n\u001b[0;32m     10\u001b[0m     \u001b[38;5;28;01mpass\u001b[39;00m\n\u001b[0;32m     13\u001b[0m \u001b[38;5;66;03m#com=computer()\u001b[39;00m\n\u001b[0;32m     14\u001b[0m \u001b[38;5;66;03m#com.process()\u001b[39;00m\n\u001b[1;32m---> 16\u001b[0m lap1\u001b[38;5;241m=\u001b[39m\u001b[43mlaptop\u001b[49m\u001b[43m(\u001b[49m\u001b[43m)\u001b[49m\n",
      "\u001b[1;31mTypeError\u001b[0m: Can't instantiate abstract class laptop with abstract method process"
     ]
    }
   ],
   "source": [
    "from abc import ABC, abstractmethod\n",
    "\n",
    "\n",
    "class computer(ABC):\n",
    "    @abstractmethod\n",
    "    def process(self):\n",
    "        pass\n",
    "    \n",
    "class laptop(computer):\n",
    "    pass\n",
    "        \n",
    "        \n",
    "#com=computer()\n",
    "#com.process()\n",
    "\n",
    "lap1=laptop()  # eroor becoz laptop inherits abstract class computer , also laptop is also passing without body"
   ]
  },
  {
   "cell_type": "code",
   "execution_count": 5,
   "id": "e9da99a4",
   "metadata": {},
   "outputs": [
    {
     "name": "stdout",
     "output_type": "stream",
     "text": [
      "its sunning\n"
     ]
    }
   ],
   "source": [
    "from abc import ABC, abstractmethod\n",
    "\n",
    "\n",
    "class computer(ABC):\n",
    "    @abstractmethod\n",
    "    def process(self):\n",
    "        pass\n",
    "    \n",
    "class laptop(computer):\n",
    "    def process(self):\n",
    "        print(\"its running\")\n",
    "        \n",
    "        \n",
    "#com=computer()\n",
    "#com.process()\n",
    "\n",
    "lap1=laptop()  \n",
    "lap1.process()      # now works becoz laptop has body"
   ]
  },
  {
   "cell_type": "code",
   "execution_count": 13,
   "id": "db5093a8",
   "metadata": {},
   "outputs": [
    {
     "name": "stdout",
     "output_type": "stream",
     "text": [
      "solve bugs\n",
      "its running\n"
     ]
    }
   ],
   "source": [
    "from abc import ABC, abstractmethod\n",
    "\n",
    "\n",
    "class computer(ABC):\n",
    "    @abstractmethod\n",
    "    def process(self):\n",
    "        pass\n",
    "    \n",
    "class laptop(computer):\n",
    "    def process(self):\n",
    "        print(\"its running\")\n",
    "        \n",
    "        \n",
    "class whiteboard:\n",
    "    \n",
    "    def write(self):\n",
    "        print(\"its writing\")\n",
    "        \n",
    "\n",
    "class programmer:\n",
    "    def work(self,com):\n",
    "        print(\"solve bugs\")\n",
    "        com.process()\n",
    "        \n",
    "\n",
    "        \n",
    "com1=laptop()\n",
    "prog1=programmer()\n",
    "com2=whiteboard()\n",
    "\n",
    "prog1.work(com1)\n",
    "prog1.work(com2)    #throws error \n",
    "\n"
   ]
  },
  {
   "cell_type": "markdown",
   "id": "ff21f562",
   "metadata": {},
   "source": [
    "Summary:\n",
    "abstract method is a method which only has declaration and doesn't have definition.\n",
    "a class is called abstract class only if it has at least one abstract method.\n",
    "when you inherit a abstract class as a parent to the child class, the child class should define all the abstract method present in parent class.\n",
    "if it is not done then child class also becomes abstract class automatically.\n",
    "at last, python by default doesn't support abstract class and abstract method, so there is a package called ABC(abstract base classes) by which we can make a class or method abstract."
   ]
  }
 ],
 "metadata": {
  "kernelspec": {
   "display_name": "Python 3 (ipykernel)",
   "language": "python",
   "name": "python3"
  },
  "language_info": {
   "codemirror_mode": {
    "name": "ipython",
    "version": 3
   },
   "file_extension": ".py",
   "mimetype": "text/x-python",
   "name": "python",
   "nbconvert_exporter": "python",
   "pygments_lexer": "ipython3",
   "version": "3.10.2"
  }
 },
 "nbformat": 4,
 "nbformat_minor": 5
}
