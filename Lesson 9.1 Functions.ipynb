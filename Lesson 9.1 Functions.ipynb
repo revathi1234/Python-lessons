{
 "cells": [
  {
   "cell_type": "markdown",
   "id": "e3df9466",
   "metadata": {},
   "source": [
    "# FUNCTIONS"
   ]
  },
  {
   "cell_type": "code",
   "execution_count": 2,
   "id": "4d71b08c",
   "metadata": {},
   "outputs": [
    {
     "name": "stdout",
     "output_type": "stream",
     "text": [
      "hello\n",
      "good morning\n"
     ]
    }
   ],
   "source": [
    "def greet():\n",
    "    print(\"hello\")\n",
    "    print(\"good morning\")   #function definition\n",
    "    \n",
    "greet()                     #function call\n"
   ]
  },
  {
   "cell_type": "code",
   "execution_count": 10,
   "id": "452cb51b",
   "metadata": {},
   "outputs": [
    {
     "name": "stdout",
     "output_type": "stream",
     "text": [
      "23\n"
     ]
    }
   ],
   "source": [
    "\n",
    "    \n",
    "def add(a,b):\n",
    "    c=a+b\n",
    "    return c\n",
    "\n",
    "\n",
    "res=add(5,18) \n",
    "print(res)"
   ]
  },
  {
   "cell_type": "code",
   "execution_count": 24,
   "id": "50c9f86e",
   "metadata": {},
   "outputs": [
    {
     "name": "stdout",
     "output_type": "stream",
     "text": [
      "Addition: 23, Subtraction: -13\n"
     ]
    }
   ],
   "source": [
    "#returnng two values\n",
    "    \n",
    "def add_sub(a,b):\n",
    "    c=a+b\n",
    "    d=a-b\n",
    "    return c,d\n",
    "\n",
    "\n",
    "res, res1 = add_sub(5, 18)\n",
    "print(f\"Addition: {res}, Subtraction: {res1}\" )\n"
   ]
  },
  {
   "cell_type": "markdown",
   "id": "9f4f92e4",
   "metadata": {},
   "source": [
    "### Arguments to function"
   ]
  },
  {
   "cell_type": "code",
   "execution_count": 25,
   "id": "5c5538bb",
   "metadata": {},
   "outputs": [
    {
     "name": "stdout",
     "output_type": "stream",
     "text": [
      "8\n"
     ]
    }
   ],
   "source": [
    "def update(x):\n",
    "    x=8\n",
    "    print(x)\n",
    "    \n",
    "update(10)"
   ]
  },
  {
   "cell_type": "code",
   "execution_count": 28,
   "id": "4ed37ddd",
   "metadata": {},
   "outputs": [],
   "source": [
    "# In python it is not either of pass by value or refrerence , id of a and x has same address, initialy a and x are 10 (so address is same), but when x = 8 the address changes"
   ]
  },
  {
   "cell_type": "code",
   "execution_count": 1,
   "id": "c73ef75e",
   "metadata": {},
   "outputs": [
    {
     "name": "stdout",
     "output_type": "stream",
     "text": [
      "id of a , before updation 2957664715280\n",
      "id of x before updation when the value was 10 like a  2957664715280\n",
      "x= 8\n",
      "id of x, which changed when it got updated to 8 2957664715216\n",
      "a= 10\n"
     ]
    }
   ],
   "source": [
    "def update(x):\n",
    "    print(\"id of x before updation when the value was 10 like a \",id(x))\n",
    "    x=8\n",
    "    print(\"x=\",x)\n",
    "    print(\"id of x, which changed when it got updated to 8\",id(x))\n",
    "    \n",
    "    \n",
    "a=10  \n",
    "print(\"id of a , before updation\",id(a))\n",
    "update(a)\n",
    "print(\"a=\",a)\n",
    "\n"
   ]
  },
  {
   "cell_type": "markdown",
   "id": "0f2eb160",
   "metadata": {},
   "source": [
    "### same address for lst and lst1 becoz list is mutable, unlike string and integer which are immutable"
   ]
  },
  {
   "cell_type": "code",
   "execution_count": 41,
   "id": "9469ddfc",
   "metadata": {},
   "outputs": [
    {
     "name": "stdout",
     "output_type": "stream",
     "text": [
      "1985264656192\n",
      "1985264656192\n",
      "list [10, 25, 30]\n",
      "[10, 25, 30]\n"
     ]
    }
   ],
   "source": [
    "def update(lst1):\n",
    "    lst1[1]=25\n",
    "    print(id(lst1))\n",
    "    print(\"list\",lst1)\n",
    "    \n",
    "    \n",
    "lst = [10,20,30]  \n",
    "print(id(lst))\n",
    "update(lst)\n",
    "\n",
    "print(lst)\n",
    "\n"
   ]
  },
  {
   "cell_type": "markdown",
   "id": "c40a6443",
   "metadata": {},
   "source": [
    "Mutable objects are those whose state can be modified after creation. This means you can change the object's content or properties without changing its identity (memory location)"
   ]
  },
  {
   "cell_type": "code",
   "execution_count": 46,
   "id": "7ec8dc2f",
   "metadata": {},
   "outputs": [
    {
     "name": "stdout",
     "output_type": "stream",
     "text": [
      "11\n"
     ]
    }
   ],
   "source": [
    "def add(a,b):       #formal arguments\n",
    "    c = a+b\n",
    "    print(c)\n",
    "    \n",
    "add(5,6)            #actual arguments  (4 types- position, keywords,default,variable length)"
   ]
  },
  {
   "cell_type": "code",
   "execution_count": 49,
   "id": "462c7e57",
   "metadata": {},
   "outputs": [
    {
     "name": "stdout",
     "output_type": "stream",
     "text": [
      "23\n"
     ]
    },
    {
     "ename": "TypeError",
     "evalue": "unsupported operand type(s) for -: 'str' and 'int'",
     "output_type": "error",
     "traceback": [
      "\u001b[1;31m---------------------------------------------------------------------------\u001b[0m",
      "\u001b[1;31mTypeError\u001b[0m                                 Traceback (most recent call last)",
      "Input \u001b[1;32mIn [49]\u001b[0m, in \u001b[0;36m<cell line: 9>\u001b[1;34m()\u001b[0m\n\u001b[0;32m      5\u001b[0m     \u001b[38;5;28mprint\u001b[39m(name)\n\u001b[0;32m      6\u001b[0m     \u001b[38;5;28mprint\u001b[39m(age\u001b[38;5;241m-\u001b[39m\u001b[38;5;241m5\u001b[39m)\n\u001b[1;32m----> 9\u001b[0m \u001b[43mperson\u001b[49m\u001b[43m(\u001b[49m\u001b[38;5;241;43m23\u001b[39;49m\u001b[43m,\u001b[49m\u001b[38;5;124;43m'\u001b[39;49m\u001b[38;5;124;43mnavo\u001b[39;49m\u001b[38;5;124;43m'\u001b[39;49m\u001b[43m)\u001b[49m\n",
      "Input \u001b[1;32mIn [49]\u001b[0m, in \u001b[0;36mperson\u001b[1;34m(name, age)\u001b[0m\n\u001b[0;32m      4\u001b[0m \u001b[38;5;28;01mdef\u001b[39;00m \u001b[38;5;21mperson\u001b[39m(name,age):\n\u001b[0;32m      5\u001b[0m     \u001b[38;5;28mprint\u001b[39m(name)\n\u001b[1;32m----> 6\u001b[0m     \u001b[38;5;28mprint\u001b[39m(\u001b[43mage\u001b[49m\u001b[38;5;241;43m-\u001b[39;49m\u001b[38;5;241;43m5\u001b[39;49m)\n",
      "\u001b[1;31mTypeError\u001b[0m: unsupported operand type(s) for -: 'str' and 'int'"
     ]
    }
   ],
   "source": [
    "# by position ( what if user dont know the position)\n",
    "\n",
    "\n",
    "def person(name,age):\n",
    "    print(name)\n",
    "    print(age-5)  # eroor becoz navo-8 \n",
    "    \n",
    "    \n",
    "person(23,'navo')"
   ]
  },
  {
   "cell_type": "code",
   "execution_count": 50,
   "id": "0d6ef1c1",
   "metadata": {},
   "outputs": [
    {
     "name": "stdout",
     "output_type": "stream",
     "text": [
      "rev\n",
      "23\n"
     ]
    }
   ],
   "source": [
    "def person(name,age):\n",
    "    print(name)\n",
    "    print(age-5)  # eroor becoz navo-8 \n",
    "    \n",
    "    \n",
    "person(age=28,name='rev')"
   ]
  },
  {
   "cell_type": "code",
   "execution_count": 3,
   "id": "a2bbd7ff",
   "metadata": {},
   "outputs": [
    {
     "ename": "TypeError",
     "evalue": "person() missing 1 required positional argument: 'age'",
     "output_type": "error",
     "traceback": [
      "\u001b[1;31m---------------------------------------------------------------------------\u001b[0m",
      "\u001b[1;31mTypeError\u001b[0m                                 Traceback (most recent call last)",
      "Input \u001b[1;32mIn [3]\u001b[0m, in \u001b[0;36m<cell line: 8>\u001b[1;34m()\u001b[0m\n\u001b[0;32m      4\u001b[0m     \u001b[38;5;28mprint\u001b[39m(name)\n\u001b[0;32m      5\u001b[0m     \u001b[38;5;28mprint\u001b[39m(age\u001b[38;5;241m-\u001b[39m\u001b[38;5;241m5\u001b[39m)  \u001b[38;5;66;03m# eroor becoz navo-8 \u001b[39;00m\n\u001b[1;32m----> 8\u001b[0m \u001b[43mperson\u001b[49m\u001b[43m(\u001b[49m\u001b[43mname\u001b[49m\u001b[38;5;241;43m=\u001b[39;49m\u001b[38;5;124;43m'\u001b[39;49m\u001b[38;5;124;43mrev\u001b[39;49m\u001b[38;5;124;43m'\u001b[39;49m\u001b[43m)\u001b[49m\n",
      "\u001b[1;31mTypeError\u001b[0m: person() missing 1 required positional argument: 'age'"
     ]
    }
   ],
   "source": [
    "# by default value\n",
    "\n",
    "def person(name,age):\n",
    "    print(name)\n",
    "    print(age-5)  # eroor becoz navo-8 \n",
    "    \n",
    "    \n",
    "person(name='rev')\n",
    "\n"
   ]
  },
  {
   "cell_type": "code",
   "execution_count": 54,
   "id": "92c46fa5",
   "metadata": {},
   "outputs": [
    {
     "name": "stdout",
     "output_type": "stream",
     "text": [
      "rev\n",
      "13\n"
     ]
    }
   ],
   "source": [
    "def person(name,age=18):\n",
    "    print(name)\n",
    "    print(age-5)  \n",
    "    \n",
    "person(name='rev')"
   ]
  },
  {
   "cell_type": "code",
   "execution_count": 55,
   "id": "2f80024e",
   "metadata": {},
   "outputs": [
    {
     "name": "stdout",
     "output_type": "stream",
     "text": [
      "rev\n",
      "25\n"
     ]
    }
   ],
   "source": [
    " def person(name,age=18):\n",
    "    print(name)\n",
    "    print(age-5)  \n",
    "    \n",
    "person(name='rev',age=30)"
   ]
  },
  {
   "cell_type": "code",
   "execution_count": 58,
   "id": "c5ab1dfc",
   "metadata": {},
   "outputs": [
    {
     "ename": "TypeError",
     "evalue": "sum() takes 2 positional arguments but 4 were given",
     "output_type": "error",
     "traceback": [
      "\u001b[1;31m---------------------------------------------------------------------------\u001b[0m",
      "\u001b[1;31mTypeError\u001b[0m                                 Traceback (most recent call last)",
      "Input \u001b[1;32mIn [58]\u001b[0m, in \u001b[0;36m<cell line: 8>\u001b[1;34m()\u001b[0m\n\u001b[0;32m      5\u001b[0m     c\u001b[38;5;241m=\u001b[39ma\u001b[38;5;241m+\u001b[39mb\n\u001b[0;32m      6\u001b[0m     \u001b[38;5;28mprint\u001b[39m(c)\n\u001b[1;32m----> 8\u001b[0m \u001b[38;5;28;43msum\u001b[39;49m\u001b[43m(\u001b[49m\u001b[38;5;241;43m5\u001b[39;49m\u001b[43m,\u001b[49m\u001b[38;5;241;43m6\u001b[39;49m\u001b[43m,\u001b[49m\u001b[38;5;241;43m7\u001b[39;49m\u001b[43m,\u001b[49m\u001b[38;5;241;43m8\u001b[39;49m\u001b[43m)\u001b[49m\n",
      "\u001b[1;31mTypeError\u001b[0m: sum() takes 2 positional arguments but 4 were given"
     ]
    }
   ],
   "source": [
    "# variable length argument (think of calulator summ (u can proivde any number of values))\n",
    "\n",
    "\n",
    "def sum(a,b):\n",
    "    c=a+b\n",
    "    print(c)\n",
    "    \n",
    "sum(5,6,7,8)"
   ]
  },
  {
   "cell_type": "code",
   "execution_count": 64,
   "id": "d4c780c2",
   "metadata": {},
   "outputs": [
    {
     "ename": "TypeError",
     "evalue": "unsupported operand type(s) for +: 'int' and 'tuple'",
     "output_type": "error",
     "traceback": [
      "\u001b[1;31m---------------------------------------------------------------------------\u001b[0m",
      "\u001b[1;31mTypeError\u001b[0m                                 Traceback (most recent call last)",
      "Input \u001b[1;32mIn [64]\u001b[0m, in \u001b[0;36m<cell line: 5>\u001b[1;34m()\u001b[0m\n\u001b[0;32m      2\u001b[0m     c\u001b[38;5;241m=\u001b[39ma\u001b[38;5;241m+\u001b[39mb\n\u001b[0;32m      3\u001b[0m     \u001b[38;5;28mprint\u001b[39m(c)\n\u001b[1;32m----> 5\u001b[0m \u001b[38;5;28;43msum\u001b[39;49m\u001b[43m(\u001b[49m\u001b[38;5;241;43m5\u001b[39;49m\u001b[43m,\u001b[49m\u001b[38;5;241;43m6\u001b[39;49m\u001b[43m,\u001b[49m\u001b[38;5;241;43m7\u001b[39;49m\u001b[43m,\u001b[49m\u001b[38;5;241;43m8\u001b[39;49m\u001b[43m)\u001b[49m\n",
      "Input \u001b[1;32mIn [64]\u001b[0m, in \u001b[0;36msum\u001b[1;34m(a, *b)\u001b[0m\n\u001b[0;32m      1\u001b[0m \u001b[38;5;28;01mdef\u001b[39;00m \u001b[38;5;21msum\u001b[39m(a,\u001b[38;5;241m*\u001b[39mb):\n\u001b[1;32m----> 2\u001b[0m     c\u001b[38;5;241m=\u001b[39m\u001b[43ma\u001b[49m\u001b[38;5;241;43m+\u001b[39;49m\u001b[43mb\u001b[49m\n\u001b[0;32m      3\u001b[0m     \u001b[38;5;28mprint\u001b[39m(c)\n",
      "\u001b[1;31mTypeError\u001b[0m: unsupported operand type(s) for +: 'int' and 'tuple'"
     ]
    }
   ],
   "source": [
    "def sum(a,*b):\n",
    "    c=a+b\n",
    "    print(c)\n",
    "    \n",
    "sum(5,6,7,8)"
   ]
  },
  {
   "cell_type": "code",
   "execution_count": 62,
   "id": "1bf8ba80",
   "metadata": {},
   "outputs": [
    {
     "name": "stdout",
     "output_type": "stream",
     "text": [
      "5\n",
      "(6, 7, 8)\n"
     ]
    }
   ],
   "source": [
    "\n",
    "def sum(a,*b):   # a is the first argument which shd be passed, but b represents the rest of the numbers \n",
    "                 # b is now considered as tuple\n",
    "    #c=a+b\n",
    "    print(a)\n",
    "    print(b)\n",
    "    \n",
    "sum(5,6,7,8)"
   ]
  },
  {
   "cell_type": "code",
   "execution_count": 65,
   "id": "4e86b54a",
   "metadata": {},
   "outputs": [
    {
     "name": "stdout",
     "output_type": "stream",
     "text": [
      "26\n"
     ]
    }
   ],
   "source": [
    "def sum(a,*b):\n",
    "    \n",
    "    c=a         # a will be stored in c , finally we fetch add every other values to c using for loop\n",
    "    for i in b:\n",
    "        c=c+i\n",
    "        \n",
    "    print(c)\n",
    "    \n",
    "sum(5,6,7,8)"
   ]
  },
  {
   "cell_type": "code",
   "execution_count": 66,
   "id": "e19ba8b3",
   "metadata": {},
   "outputs": [
    {
     "name": "stdout",
     "output_type": "stream",
     "text": [
      "26\n"
     ]
    }
   ],
   "source": [
    "def sum(*b):\n",
    "    \n",
    "    c=0         \n",
    "    for i in b:\n",
    "        c=c+i\n",
    "        \n",
    "    print(c)\n",
    "    \n",
    "sum(5,6,7,8)"
   ]
  },
  {
   "cell_type": "code",
   "execution_count": 7,
   "id": "046e756a",
   "metadata": {},
   "outputs": [
    {
     "name": "stdout",
     "output_type": "stream",
     "text": [
      "1\n",
      "2\n",
      "3\n",
      "4\n",
      "5\n"
     ]
    }
   ],
   "source": [
    "def print1(*b):\n",
    "    for i in b:\n",
    "        print(i)\n",
    "        \n",
    "print1(1,2,3,4,5)"
   ]
  },
  {
   "cell_type": "markdown",
   "id": "55c29475",
   "metadata": {},
   "source": [
    "### Keyworded variable length arguments "
   ]
  },
  {
   "cell_type": "code",
   "execution_count": 67,
   "id": "c496f5cd",
   "metadata": {},
   "outputs": [
    {
     "name": "stdout",
     "output_type": "stream",
     "text": [
      "revathi\n",
      "(27, 'kerala', 437989)\n"
     ]
    }
   ],
   "source": [
    "def person(name,*data):\n",
    "    \n",
    "    print(name)\n",
    "    print(data)\n",
    "    \n",
    "person('revathi',27,'kerala',437989)"
   ]
  },
  {
   "cell_type": "markdown",
   "id": "919654ec",
   "metadata": {},
   "source": [
    "what if u dont know what it represents exaclty so u will use keyword"
   ]
  },
  {
   "cell_type": "code",
   "execution_count": 70,
   "id": "5a120263",
   "metadata": {},
   "outputs": [
    {
     "ename": "TypeError",
     "evalue": "person() got an unexpected keyword argument 'age'",
     "output_type": "error",
     "traceback": [
      "\u001b[1;31m---------------------------------------------------------------------------\u001b[0m",
      "\u001b[1;31mTypeError\u001b[0m                                 Traceback (most recent call last)",
      "Input \u001b[1;32mIn [70]\u001b[0m, in \u001b[0;36m<cell line: 6>\u001b[1;34m()\u001b[0m\n\u001b[0;32m      3\u001b[0m     \u001b[38;5;28mprint\u001b[39m(name)\n\u001b[0;32m      4\u001b[0m     \u001b[38;5;28mprint\u001b[39m(data)\n\u001b[1;32m----> 6\u001b[0m \u001b[43mperson\u001b[49m\u001b[43m(\u001b[49m\u001b[38;5;124;43m'\u001b[39;49m\u001b[38;5;124;43mrevathi\u001b[39;49m\u001b[38;5;124;43m'\u001b[39;49m\u001b[43m,\u001b[49m\u001b[43mage\u001b[49m\u001b[38;5;241;43m=\u001b[39;49m\u001b[38;5;241;43m27\u001b[39;49m\u001b[43m,\u001b[49m\u001b[43mcity\u001b[49m\u001b[38;5;241;43m=\u001b[39;49m\u001b[38;5;124;43m'\u001b[39;49m\u001b[38;5;124;43mkerala\u001b[39;49m\u001b[38;5;124;43m'\u001b[39;49m\u001b[43m,\u001b[49m\u001b[43mmob\u001b[49m\u001b[38;5;241;43m=\u001b[39;49m\u001b[38;5;241;43m437989\u001b[39;49m\u001b[43m)\u001b[49m\n",
      "\u001b[1;31mTypeError\u001b[0m: person() got an unexpected keyword argument 'age'"
     ]
    }
   ],
   "source": [
    "def person(name,*data):\n",
    "    \n",
    "    print(name)\n",
    "    print(data)\n",
    "    \n",
    "person('revathi',age=27,city='kerala',mob=437989)"
   ]
  },
  {
   "cell_type": "markdown",
   "id": "f1f2d172",
   "metadata": {},
   "source": [
    "when u mention keyword argument like age=27 or city= kerala etc, it will not be accepted by * in the formal arguments"
   ]
  },
  {
   "cell_type": "code",
   "execution_count": 75,
   "id": "2c6fcffe",
   "metadata": {},
   "outputs": [
    {
     "name": "stdout",
     "output_type": "stream",
     "text": [
      "revathi\n",
      "{'age': 27, 'city': 'kerala', 'mob': 437989}\n",
      "<class 'dict'>\n"
     ]
    }
   ],
   "source": [
    "def person(name,**data):    # use kwargs\n",
    "    \n",
    "    print(name)\n",
    "    #print(data)\n",
    "    print(type(data))\n",
    "    \n",
    "person('revathi',age=27,city='kerala',mob=437989)"
   ]
  },
  {
   "cell_type": "code",
   "execution_count": 8,
   "id": "a7a3f4bb",
   "metadata": {},
   "outputs": [
    {
     "name": "stdout",
     "output_type": "stream",
     "text": [
      "revathi\n",
      "<class 'dict'>\n",
      "age 27\n",
      "city kerala\n",
      "mob 437989\n"
     ]
    }
   ],
   "source": [
    "def person(name,**data):    # use kwargs\n",
    "    \n",
    "    print(name)\n",
    "  \n",
    "    \n",
    "    for i,j in data.items():\n",
    "        print(i,j)\n",
    "    \n",
    "person('revathi',age=27,city='kerala',mob=437989)"
   ]
  },
  {
   "cell_type": "code",
   "execution_count": 9,
   "id": "a72ed98b",
   "metadata": {},
   "outputs": [],
   "source": [
    "# reference - .tems() for dictionary to access each dictinoary element\n",
    "l={'age': 27, 'city': 'kerala', 'mob': 437989}\n"
   ]
  },
  {
   "cell_type": "code",
   "execution_count": 21,
   "id": "4602be11",
   "metadata": {},
   "outputs": [
    {
     "name": "stdout",
     "output_type": "stream",
     "text": [
      "age 27\n",
      "city kerala\n",
      "mob 437989\n"
     ]
    }
   ],
   "source": [
    "for i,j in l.items():\n",
    "    print(i,j)"
   ]
  },
  {
   "cell_type": "code",
   "execution_count": 22,
   "id": "dbd903e3",
   "metadata": {},
   "outputs": [
    {
     "name": "stdout",
     "output_type": "stream",
     "text": [
      "age 27\n",
      "city kerala\n",
      "mob 437989\n"
     ]
    }
   ],
   "source": [
    "for i in l:\n",
    "    print(i,l[i])"
   ]
  },
  {
   "cell_type": "code",
   "execution_count": 77,
   "id": "9029d57d",
   "metadata": {},
   "outputs": [
    {
     "data": {
      "text/plain": [
       "dict_items([('age', 27), ('city', 'kerala'), ('mob', 437989)])"
      ]
     },
     "execution_count": 77,
     "metadata": {},
     "output_type": "execute_result"
    }
   ],
   "source": [
    "l.items()"
   ]
  },
  {
   "cell_type": "code",
   "execution_count": null,
   "id": "ac740c01",
   "metadata": {},
   "outputs": [],
   "source": [
    "### passing list to a function\n",
    "#### we pass a list to function and function shd return number of even and odd values in the list"
   ]
  },
  {
   "cell_type": "code",
   "execution_count": 82,
   "id": "2cef8862",
   "metadata": {},
   "outputs": [
    {
     "name": "stdout",
     "output_type": "stream",
     "text": [
      "even:4,odd:5\n"
     ]
    }
   ],
   "source": [
    "def count(lst):\n",
    "    even=0\n",
    "    odd=0\n",
    "    \n",
    "    for i in lst:\n",
    "        if i%2==0:\n",
    "            even+=1\n",
    "        else:\n",
    "            odd+=1\n",
    "            \n",
    "    return even,odd\n",
    "\n",
    "lst=[20,23,21,14,63,90,45,86,87]\n",
    "\n",
    "even,odd=count(lst)\n",
    "\n",
    "print(f\"even:{even},odd:{odd}\")\n"
   ]
  },
  {
   "cell_type": "code",
   "execution_count": 17,
   "id": "818613f0",
   "metadata": {},
   "outputs": [
    {
     "name": "stdout",
     "output_type": "stream",
     "text": [
      "[4, 3, 2, 1]\n",
      "[4, 3, 2, 1]\n"
     ]
    }
   ],
   "source": [
    "def count(lst):\n",
    "    lst.reverse()\n",
    "    return lst\n",
    "    \n",
    "    \n",
    "list1=[1,2,3,4]\n",
    "list2=count(list1)\n",
    "print(list2)\n",
    "print(list1)"
   ]
  },
  {
   "cell_type": "code",
   "execution_count": 18,
   "id": "3ffaa8d0",
   "metadata": {},
   "outputs": [
    {
     "name": "stdout",
     "output_type": "stream",
     "text": [
      "[4, 3, 2, 1]\n",
      "[1, 2, 3, 4]\n"
     ]
    }
   ],
   "source": [
    "def count(lst):\n",
    "    lst.reverse()  # Reverse the list in place\n",
    "    return lst  # Return the reversed list\n",
    "\n",
    "list1 = [1, 2, 3, 4]\n",
    "list2 = count(list1.copy())  # Pass a copy of list1 to avoid modifying the original list\n",
    "print(list2)\n",
    "print(list1)\n"
   ]
  },
  {
   "cell_type": "code",
   "execution_count": null,
   "id": "6fa11a23",
   "metadata": {},
   "outputs": [],
   "source": [
    "#Passing function as argument to another function"
   ]
  },
  {
   "cell_type": "code",
   "execution_count": 1,
   "id": "70308719",
   "metadata": {},
   "outputs": [
    {
     "name": "stdout",
     "output_type": "stream",
     "text": [
      "25\n"
     ]
    }
   ],
   "source": [
    "\n",
    "def square(x):\n",
    "    return x ** 2\n",
    "\n",
    "def apply_function(func, value):\n",
    "    return func(value)\n",
    "\n",
    "# Passing the 'square' function as an argument to 'apply_function'\n",
    "\n",
    "result = apply_function(square, 5)  # Passing 'square' function and the value 5\n",
    "\n",
    "print(result)  # Output: 25 (square of 5)"
   ]
  },
  {
   "cell_type": "code",
   "execution_count": null,
   "id": "c596091a",
   "metadata": {},
   "outputs": [],
   "source": []
  }
 ],
 "metadata": {
  "kernelspec": {
   "display_name": "Python 3 (ipykernel)",
   "language": "python",
   "name": "python3"
  },
  "language_info": {
   "codemirror_mode": {
    "name": "ipython",
    "version": 3
   },
   "file_extension": ".py",
   "mimetype": "text/x-python",
   "name": "python",
   "nbconvert_exporter": "python",
   "pygments_lexer": "ipython3",
   "version": "3.10.2"
  }
 },
 "nbformat": 4,
 "nbformat_minor": 5
}
